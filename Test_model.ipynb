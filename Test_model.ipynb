{
 "cells": [
  {
   "cell_type": "code",
   "execution_count": 302,
   "metadata": {},
   "outputs": [],
   "source": [
    "# !pip install xlrd"
   ]
  },
  {
   "cell_type": "code",
   "execution_count": 303,
   "metadata": {},
   "outputs": [],
   "source": [
    "import warnings\n",
    "warnings.filterwarnings('ignore')"
   ]
  },
  {
   "cell_type": "code",
   "execution_count": 304,
   "metadata": {},
   "outputs": [
    {
     "name": "stdout",
     "output_type": "stream",
     "text": [
      "<class 'pandas.core.frame.DataFrame'>\n",
      "Index: 30000 entries, 1 to 30000\n",
      "Data columns (total 24 columns):\n",
      " #   Column                      Non-Null Count  Dtype\n",
      "---  ------                      --------------  -----\n",
      " 0   LIMIT_BAL                   30000 non-null  int64\n",
      " 1   SEX                         30000 non-null  int64\n",
      " 2   EDUCATION                   30000 non-null  int64\n",
      " 3   MARRIAGE                    30000 non-null  int64\n",
      " 4   AGE                         30000 non-null  int64\n",
      " 5   PAY_0                       30000 non-null  int64\n",
      " 6   PAY_2                       30000 non-null  int64\n",
      " 7   PAY_3                       30000 non-null  int64\n",
      " 8   PAY_4                       30000 non-null  int64\n",
      " 9   PAY_5                       30000 non-null  int64\n",
      " 10  PAY_6                       30000 non-null  int64\n",
      " 11  BILL_AMT1                   30000 non-null  int64\n",
      " 12  BILL_AMT2                   30000 non-null  int64\n",
      " 13  BILL_AMT3                   30000 non-null  int64\n",
      " 14  BILL_AMT4                   30000 non-null  int64\n",
      " 15  BILL_AMT5                   30000 non-null  int64\n",
      " 16  BILL_AMT6                   30000 non-null  int64\n",
      " 17  PAY_AMT1                    30000 non-null  int64\n",
      " 18  PAY_AMT2                    30000 non-null  int64\n",
      " 19  PAY_AMT3                    30000 non-null  int64\n",
      " 20  PAY_AMT4                    30000 non-null  int64\n",
      " 21  PAY_AMT5                    30000 non-null  int64\n",
      " 22  PAY_AMT6                    30000 non-null  int64\n",
      " 23  default payment next month  30000 non-null  int64\n",
      "dtypes: int64(24)\n",
      "memory usage: 5.7 MB\n"
     ]
    }
   ],
   "source": [
    "import os\n",
    "import pandas as pd\n",
    "\n",
    "pd.set_option('display.max_columns', None)\n",
    "pd.set_option('display.max_rows', None)\n",
    "\n",
    "dataset = pd.read_excel('credit_card.xls', header=1, index_col=0)\n",
    "dataset.info()"
   ]
  },
  {
   "cell_type": "code",
   "execution_count": 305,
   "metadata": {},
   "outputs": [
    {
     "data": {
      "text/html": [
       "<div>\n",
       "<style scoped>\n",
       "    .dataframe tbody tr th:only-of-type {\n",
       "        vertical-align: middle;\n",
       "    }\n",
       "\n",
       "    .dataframe tbody tr th {\n",
       "        vertical-align: top;\n",
       "    }\n",
       "\n",
       "    .dataframe thead th {\n",
       "        text-align: right;\n",
       "    }\n",
       "</style>\n",
       "<table border=\"1\" class=\"dataframe\">\n",
       "  <thead>\n",
       "    <tr style=\"text-align: right;\">\n",
       "      <th></th>\n",
       "      <th>LIMIT_BAL</th>\n",
       "      <th>SEX</th>\n",
       "      <th>EDUCATION</th>\n",
       "      <th>MARRIAGE</th>\n",
       "      <th>AGE</th>\n",
       "      <th>PAY_0</th>\n",
       "      <th>PAY_2</th>\n",
       "      <th>PAY_3</th>\n",
       "      <th>PAY_4</th>\n",
       "      <th>PAY_5</th>\n",
       "      <th>PAY_6</th>\n",
       "      <th>BILL_AMT1</th>\n",
       "      <th>BILL_AMT2</th>\n",
       "      <th>BILL_AMT3</th>\n",
       "      <th>BILL_AMT4</th>\n",
       "      <th>BILL_AMT5</th>\n",
       "      <th>BILL_AMT6</th>\n",
       "      <th>PAY_AMT1</th>\n",
       "      <th>PAY_AMT2</th>\n",
       "      <th>PAY_AMT3</th>\n",
       "      <th>PAY_AMT4</th>\n",
       "      <th>PAY_AMT5</th>\n",
       "      <th>PAY_AMT6</th>\n",
       "      <th>default payment next month</th>\n",
       "    </tr>\n",
       "    <tr>\n",
       "      <th>ID</th>\n",
       "      <th></th>\n",
       "      <th></th>\n",
       "      <th></th>\n",
       "      <th></th>\n",
       "      <th></th>\n",
       "      <th></th>\n",
       "      <th></th>\n",
       "      <th></th>\n",
       "      <th></th>\n",
       "      <th></th>\n",
       "      <th></th>\n",
       "      <th></th>\n",
       "      <th></th>\n",
       "      <th></th>\n",
       "      <th></th>\n",
       "      <th></th>\n",
       "      <th></th>\n",
       "      <th></th>\n",
       "      <th></th>\n",
       "      <th></th>\n",
       "      <th></th>\n",
       "      <th></th>\n",
       "      <th></th>\n",
       "      <th></th>\n",
       "    </tr>\n",
       "  </thead>\n",
       "  <tbody>\n",
       "    <tr>\n",
       "      <th>1</th>\n",
       "      <td>20000</td>\n",
       "      <td>2</td>\n",
       "      <td>2</td>\n",
       "      <td>1</td>\n",
       "      <td>24</td>\n",
       "      <td>2</td>\n",
       "      <td>2</td>\n",
       "      <td>-1</td>\n",
       "      <td>-1</td>\n",
       "      <td>-2</td>\n",
       "      <td>-2</td>\n",
       "      <td>3913</td>\n",
       "      <td>3102</td>\n",
       "      <td>689</td>\n",
       "      <td>0</td>\n",
       "      <td>0</td>\n",
       "      <td>0</td>\n",
       "      <td>0</td>\n",
       "      <td>689</td>\n",
       "      <td>0</td>\n",
       "      <td>0</td>\n",
       "      <td>0</td>\n",
       "      <td>0</td>\n",
       "      <td>1</td>\n",
       "    </tr>\n",
       "    <tr>\n",
       "      <th>2</th>\n",
       "      <td>120000</td>\n",
       "      <td>2</td>\n",
       "      <td>2</td>\n",
       "      <td>2</td>\n",
       "      <td>26</td>\n",
       "      <td>-1</td>\n",
       "      <td>2</td>\n",
       "      <td>0</td>\n",
       "      <td>0</td>\n",
       "      <td>0</td>\n",
       "      <td>2</td>\n",
       "      <td>2682</td>\n",
       "      <td>1725</td>\n",
       "      <td>2682</td>\n",
       "      <td>3272</td>\n",
       "      <td>3455</td>\n",
       "      <td>3261</td>\n",
       "      <td>0</td>\n",
       "      <td>1000</td>\n",
       "      <td>1000</td>\n",
       "      <td>1000</td>\n",
       "      <td>0</td>\n",
       "      <td>2000</td>\n",
       "      <td>1</td>\n",
       "    </tr>\n",
       "    <tr>\n",
       "      <th>3</th>\n",
       "      <td>90000</td>\n",
       "      <td>2</td>\n",
       "      <td>2</td>\n",
       "      <td>2</td>\n",
       "      <td>34</td>\n",
       "      <td>0</td>\n",
       "      <td>0</td>\n",
       "      <td>0</td>\n",
       "      <td>0</td>\n",
       "      <td>0</td>\n",
       "      <td>0</td>\n",
       "      <td>29239</td>\n",
       "      <td>14027</td>\n",
       "      <td>13559</td>\n",
       "      <td>14331</td>\n",
       "      <td>14948</td>\n",
       "      <td>15549</td>\n",
       "      <td>1518</td>\n",
       "      <td>1500</td>\n",
       "      <td>1000</td>\n",
       "      <td>1000</td>\n",
       "      <td>1000</td>\n",
       "      <td>5000</td>\n",
       "      <td>0</td>\n",
       "    </tr>\n",
       "    <tr>\n",
       "      <th>4</th>\n",
       "      <td>50000</td>\n",
       "      <td>2</td>\n",
       "      <td>2</td>\n",
       "      <td>1</td>\n",
       "      <td>37</td>\n",
       "      <td>0</td>\n",
       "      <td>0</td>\n",
       "      <td>0</td>\n",
       "      <td>0</td>\n",
       "      <td>0</td>\n",
       "      <td>0</td>\n",
       "      <td>46990</td>\n",
       "      <td>48233</td>\n",
       "      <td>49291</td>\n",
       "      <td>28314</td>\n",
       "      <td>28959</td>\n",
       "      <td>29547</td>\n",
       "      <td>2000</td>\n",
       "      <td>2019</td>\n",
       "      <td>1200</td>\n",
       "      <td>1100</td>\n",
       "      <td>1069</td>\n",
       "      <td>1000</td>\n",
       "      <td>0</td>\n",
       "    </tr>\n",
       "    <tr>\n",
       "      <th>5</th>\n",
       "      <td>50000</td>\n",
       "      <td>1</td>\n",
       "      <td>2</td>\n",
       "      <td>1</td>\n",
       "      <td>57</td>\n",
       "      <td>-1</td>\n",
       "      <td>0</td>\n",
       "      <td>-1</td>\n",
       "      <td>0</td>\n",
       "      <td>0</td>\n",
       "      <td>0</td>\n",
       "      <td>8617</td>\n",
       "      <td>5670</td>\n",
       "      <td>35835</td>\n",
       "      <td>20940</td>\n",
       "      <td>19146</td>\n",
       "      <td>19131</td>\n",
       "      <td>2000</td>\n",
       "      <td>36681</td>\n",
       "      <td>10000</td>\n",
       "      <td>9000</td>\n",
       "      <td>689</td>\n",
       "      <td>679</td>\n",
       "      <td>0</td>\n",
       "    </tr>\n",
       "  </tbody>\n",
       "</table>\n",
       "</div>"
      ],
      "text/plain": [
       "    LIMIT_BAL  SEX  EDUCATION  MARRIAGE  AGE  PAY_0  PAY_2  PAY_3  PAY_4  \\\n",
       "ID                                                                         \n",
       "1       20000    2          2         1   24      2      2     -1     -1   \n",
       "2      120000    2          2         2   26     -1      2      0      0   \n",
       "3       90000    2          2         2   34      0      0      0      0   \n",
       "4       50000    2          2         1   37      0      0      0      0   \n",
       "5       50000    1          2         1   57     -1      0     -1      0   \n",
       "\n",
       "    PAY_5  PAY_6  BILL_AMT1  BILL_AMT2  BILL_AMT3  BILL_AMT4  BILL_AMT5  \\\n",
       "ID                                                                        \n",
       "1      -2     -2       3913       3102        689          0          0   \n",
       "2       0      2       2682       1725       2682       3272       3455   \n",
       "3       0      0      29239      14027      13559      14331      14948   \n",
       "4       0      0      46990      48233      49291      28314      28959   \n",
       "5       0      0       8617       5670      35835      20940      19146   \n",
       "\n",
       "    BILL_AMT6  PAY_AMT1  PAY_AMT2  PAY_AMT3  PAY_AMT4  PAY_AMT5  PAY_AMT6  \\\n",
       "ID                                                                          \n",
       "1           0         0       689         0         0         0         0   \n",
       "2        3261         0      1000      1000      1000         0      2000   \n",
       "3       15549      1518      1500      1000      1000      1000      5000   \n",
       "4       29547      2000      2019      1200      1100      1069      1000   \n",
       "5       19131      2000     36681     10000      9000       689       679   \n",
       "\n",
       "    default payment next month  \n",
       "ID                              \n",
       "1                            1  \n",
       "2                            1  \n",
       "3                            0  \n",
       "4                            0  \n",
       "5                            0  "
      ]
     },
     "execution_count": 305,
     "metadata": {},
     "output_type": "execute_result"
    }
   ],
   "source": [
    "dataset.head()"
   ]
  },
  {
   "cell_type": "code",
   "execution_count": 306,
   "metadata": {},
   "outputs": [
    {
     "data": {
      "text/plain": [
       "LIMIT_BAL                     0\n",
       "SEX                           0\n",
       "EDUCATION                     0\n",
       "MARRIAGE                      0\n",
       "AGE                           0\n",
       "PAY_0                         0\n",
       "PAY_2                         0\n",
       "PAY_3                         0\n",
       "PAY_4                         0\n",
       "PAY_5                         0\n",
       "PAY_6                         0\n",
       "BILL_AMT1                     0\n",
       "BILL_AMT2                     0\n",
       "BILL_AMT3                     0\n",
       "BILL_AMT4                     0\n",
       "BILL_AMT5                     0\n",
       "BILL_AMT6                     0\n",
       "PAY_AMT1                      0\n",
       "PAY_AMT2                      0\n",
       "PAY_AMT3                      0\n",
       "PAY_AMT4                      0\n",
       "PAY_AMT5                      0\n",
       "PAY_AMT6                      0\n",
       "default payment next month    0\n",
       "dtype: int64"
      ]
     },
     "execution_count": 306,
     "metadata": {},
     "output_type": "execute_result"
    }
   ],
   "source": [
    "dataset.isna().sum()"
   ]
  },
  {
   "cell_type": "code",
   "execution_count": 307,
   "metadata": {},
   "outputs": [],
   "source": [
    "import numpy as np"
   ]
  },
  {
   "cell_type": "code",
   "execution_count": 308,
   "metadata": {},
   "outputs": [],
   "source": [
    "model_features = list(set(dataset.columns).difference({\"ID\", \"default payment next month\"}))\n",
    "target = [\"default payment next month\"]\n",
    "X = dataset[model_features]\n",
    "y = dataset[target]"
   ]
  },
  {
   "cell_type": "code",
   "execution_count": 309,
   "metadata": {},
   "outputs": [],
   "source": [
    "id_pos = np.where(y.values.reshape(-1) == 1)[0]\n",
    "id_neg = np.where(y.values.reshape(-1) == 0)[0]"
   ]
  },
  {
   "cell_type": "code",
   "execution_count": 310,
   "metadata": {},
   "outputs": [
    {
     "data": {
      "text/plain": [
       "((6636,), (23364,))"
      ]
     },
     "execution_count": 310,
     "metadata": {},
     "output_type": "execute_result"
    }
   ],
   "source": [
    "id_pos.shape, id_neg.shape"
   ]
  },
  {
   "cell_type": "code",
   "execution_count": 311,
   "metadata": {},
   "outputs": [],
   "source": [
    "np.random.shuffle(id_pos)\n",
    "np.random.shuffle(id_neg)"
   ]
  },
  {
   "cell_type": "code",
   "execution_count": 312,
   "metadata": {},
   "outputs": [],
   "source": [
    "# Tập val:\n",
    "id_val_neg = id_neg[:2000]\n",
    "id_val_pos = id_pos[:100]\n",
    "id_val = np.concatenate((id_val_neg, id_val_pos), axis = 0)"
   ]
  },
  {
   "cell_type": "code",
   "execution_count": 313,
   "metadata": {},
   "outputs": [],
   "source": [
    "# Tập test:\n",
    "id_test_neg = id_neg[2000:4000]\n",
    "id_test_pos = id_pos[100:200]\n",
    "id_test = np.concatenate((id_test_neg, id_test_pos), axis = 0)"
   ]
  },
  {
   "cell_type": "code",
   "execution_count": 314,
   "metadata": {},
   "outputs": [],
   "source": [
    "# Tập train:\n",
    "id_train_neg = id_neg[4000:] \n",
    "id_train_pos = id_pos[200:]\n",
    "id_train = np.concatenate((id_train_neg, id_train_pos), axis = 0)"
   ]
  },
  {
   "cell_type": "code",
   "execution_count": 315,
   "metadata": {},
   "outputs": [],
   "source": [
    "# khởi tạo dataset\n",
    "data_train = dataset.iloc[id_train]\n",
    "data_val = dataset.iloc[id_val]\n",
    "data_test = dataset.iloc[id_test] "
   ]
  },
  {
   "cell_type": "code",
   "execution_count": 316,
   "metadata": {},
   "outputs": [
    {
     "name": "stdout",
     "output_type": "stream",
     "text": [
      "data train shape:  (25800, 24)\n",
      "data val shape:  (2100, 24)\n",
      "data test shape:  (2100, 24)\n"
     ]
    }
   ],
   "source": [
    "print('data train shape: ', data_train.shape)\n",
    "print('data val shape: ', data_val.shape)\n",
    "print('data test shape: ', data_test.shape)"
   ]
  },
  {
   "cell_type": "markdown",
   "metadata": {},
   "source": [
    "<h1>Xây dựng model</h1>"
   ]
  },
  {
   "cell_type": "markdown",
   "metadata": {},
   "source": [
    "<h1>Over Sampling</h1>"
   ]
  },
  {
   "cell_type": "code",
   "execution_count": 317,
   "metadata": {},
   "outputs": [],
   "source": [
    "import matplotlib.pyplot as plt\n",
    "import seaborn as sns\n",
    "from sklearn.ensemble import RandomForestClassifier\n",
    "from sklearn.metrics import roc_auc_score, f1_score"
   ]
  },
  {
   "cell_type": "markdown",
   "metadata": {},
   "source": [
    "<h1>SMOTE And Adasyn</h1>"
   ]
  },
  {
   "cell_type": "code",
   "execution_count": 318,
   "metadata": {},
   "outputs": [],
   "source": [
    "from imblearn.pipeline import make_pipeline\n",
    "from imblearn.over_sampling import ADASYN\n",
    "from imblearn.over_sampling import (SMOTE, BorderlineSMOTE, SVMSMOTE, SMOTENC, KMeansSMOTE)\n",
    "from sklearn.cluster import MiniBatchKMeans as MiniKM\n",
    "from sklearn.metrics import accuracy_score, confusion_matrix\n",
    "from sklearn.metrics import recall_score, precision_score\n",
    "\n",
    "from beautifultable import BeautifulTable\n",
    "\n",
    "clf = MiniKM(n_clusters=100, random_state=0)"
   ]
  },
  {
   "cell_type": "code",
   "execution_count": 319,
   "metadata": {},
   "outputs": [],
   "source": [
    "smotes = {0 : 'SMOTE',\n",
    "          1 : 'BorderlineSMOTE',\n",
    "          2 : 'SVMSMOTE',\n",
    "          3 : 'SMOTENC',\n",
    "          4 : 'KMeansSMOTE',\n",
    "          5 : 'ADASYN'}"
   ]
  },
  {
   "cell_type": "code",
   "execution_count": 320,
   "metadata": {},
   "outputs": [],
   "source": [
    "result_dict = {}"
   ]
  },
  {
   "cell_type": "code",
   "execution_count": 321,
   "metadata": {},
   "outputs": [],
   "source": [
    "def train_model(model_name):\n",
    "  categorical_feature_indices = [2, 10]\n",
    "  table = BeautifulTable()\n",
    "  table.column_headers = [\"\", \"Positive\", \"Negative\"]\n",
    "\n",
    "  for i, sampler in enumerate((SMOTE(sampling_strategy=1, random_state=0),\n",
    "                                BorderlineSMOTE(sampling_strategy=1, random_state=0, kind='borderline-1'),\n",
    "                                SVMSMOTE(sampling_strategy=1, random_state=0),\n",
    "                                SMOTENC(categorical_features=categorical_feature_indices, sampling_strategy=1, random_state=0),\n",
    "                                KMeansSMOTE(sampling_strategy=1, random_state=0, k_neighbors=10,\n",
    "                                            kmeans_estimator=clf, cluster_balance_threshold=0.05),\n",
    "                                ADASYN(sampling_strategy=1, random_state=0))):\n",
    "\n",
    "      pipe_line = make_pipeline(sampler, model_name)\n",
    "      pipe_line.fit(data_train[model_features], data_train['default payment next month'])\n",
    "      pred_label = pipe_line.predict(data_test[model_features])\n",
    "      roc_score = roc_auc_score(data_test['default payment next month'], pred_label)\n",
    "      f1_scores = f1_score(data_test['default payment next month'], pred_label)\n",
    "      acc_score = accuracy_score(data_test['default payment next month'], pred_label)\n",
    "      recall = recall_score(data_test['default payment next month'], pred_label)\n",
    "      precision = precision_score(data_test['default payment next month'], pred_label)\n",
    "      result_dict[smotes[i]] = [round(roc_score, 2), round(f1_scores, 2), round(acc_score, 2), round(recall, 2), round(precision, 2)]\n",
    "      print(f'Confusion matrix of {smotes[i]}')\n",
    "      table.append_row([\"Positive\", confusion_matrix(data_test['default payment next month'], pred_label)[1][1], confusion_matrix(data_test['default payment next month'], pred_label)[1][0]])\n",
    "      table.append_row([\"Negative\", confusion_matrix(data_test['default payment next month'], pred_label)[0][1], confusion_matrix(data_test['default payment next month'], pred_label)[0][0]])\n",
    "      print(table)\n",
    "      table.clear()"
   ]
  },
  {
   "cell_type": "code",
   "execution_count": 322,
   "metadata": {},
   "outputs": [],
   "source": [
    "def plot_result():\n",
    "  dfplot = pd.DataFrame(result_dict).T.reset_index().drop(columns = [3, 4],axis=1)\n",
    "  dfplot.columns = ['case', 'ROC score', 'F1 score', 'Acc score']\n",
    "  dfplot = pd.melt(dfplot, id_vars= 'case', value_vars= ['ROC score', 'F1 score', 'Acc score'])\n",
    "\n",
    "  # Plot:\n",
    "  plt.figure(figsize=(10, 5))\n",
    "  plt.ylim(0, 1)\n",
    "  ax = sns.barplot(data = dfplot, x = 'case', y = 'value', hue = 'variable')\n",
    "  plt.title('ROC score - F1 score - Accuracy score')\n",
    "  for i in range(dfplot.variable.nunique()):\n",
    "      plt.bar_label(ax.containers[i])\n",
    "  plt.show()"
   ]
  },
  {
   "cell_type": "code",
   "execution_count": 323,
   "metadata": {},
   "outputs": [],
   "source": [
    "def print_table():\n",
    "  table = BeautifulTable()\n",
    "  table.column_headers = [\"SMOTE method\", \"ROC score\", \"F1 score\", \"Acc score\", \"Recall\", \"Precision\"]\n",
    "  for key, value in result_dict.items():\n",
    "    table.append_row([key, value[0], value[1], value[2], value[3], value[4]])\n",
    "  print(table)"
   ]
  },
  {
   "cell_type": "markdown",
   "metadata": {},
   "source": [
    "<h3>Random Forest</h3>"
   ]
  },
  {
   "cell_type": "code",
   "execution_count": 324,
   "metadata": {},
   "outputs": [
    {
     "name": "stdout",
     "output_type": "stream",
     "text": [
      "Confusion matrix of SMOTE\n",
      "+----------+----------+----------+\n",
      "|          | Positive | Negative |\n",
      "+----------+----------+----------+\n",
      "| Positive |    54    |    46    |\n",
      "+----------+----------+----------+\n",
      "| Negative |   286    |   1714   |\n",
      "+----------+----------+----------+\n",
      "Confusion matrix of BorderlineSMOTE\n",
      "+----------+----------+----------+\n",
      "|          | Positive | Negative |\n",
      "+----------+----------+----------+\n",
      "| Positive |    51    |    49    |\n",
      "+----------+----------+----------+\n",
      "| Negative |   299    |   1701   |\n",
      "+----------+----------+----------+\n",
      "Confusion matrix of SVMSMOTE\n",
      "+----------+----------+----------+\n",
      "|          | Positive | Negative |\n",
      "+----------+----------+----------+\n",
      "| Positive |    52    |    48    |\n",
      "+----------+----------+----------+\n",
      "| Negative |   245    |   1755   |\n",
      "+----------+----------+----------+\n",
      "Confusion matrix of SMOTENC\n",
      "+----------+----------+----------+\n",
      "|          | Positive | Negative |\n",
      "+----------+----------+----------+\n",
      "| Positive |    51    |    49    |\n",
      "+----------+----------+----------+\n",
      "| Negative |   269    |   1731   |\n",
      "+----------+----------+----------+\n",
      "Confusion matrix of KMeansSMOTE\n",
      "+----------+----------+----------+\n",
      "|          | Positive | Negative |\n",
      "+----------+----------+----------+\n",
      "| Positive |    47    |    53    |\n",
      "+----------+----------+----------+\n",
      "| Negative |   182    |   1818   |\n",
      "+----------+----------+----------+\n",
      "Confusion matrix of ADASYN\n",
      "+----------+----------+----------+\n",
      "|          | Positive | Negative |\n",
      "+----------+----------+----------+\n",
      "| Positive |    55    |    45    |\n",
      "+----------+----------+----------+\n",
      "| Negative |   303    |   1697   |\n",
      "+----------+----------+----------+\n"
     ]
    }
   ],
   "source": [
    "train_model(RandomForestClassifier(n_estimators=100, random_state=42))"
   ]
  },
  {
   "cell_type": "code",
   "execution_count": 325,
   "metadata": {},
   "outputs": [
    {
     "data": {
      "image/png": "[encoded data removed]",
      "text/plain": [
       "<Figure size 1000x500 with 1 Axes>"
      ]
     },
     "metadata": {},
     "output_type": "display_data"
    }
   ],
   "source": [
    "plot_result()"
   ]
  },
  {
   "cell_type": "code",
   "execution_count": 326,
   "metadata": {},
   "outputs": [
    {
     "name": "stdout",
     "output_type": "stream",
     "text": [
      "+-----------------+-----------+----------+-----------+--------+-----------+\n",
      "|  SMOTE method   | ROC score | F1 score | Acc score | Recall | Precision |\n",
      "+-----------------+-----------+----------+-----------+--------+-----------+\n",
      "|      SMOTE      |    0.7    |   0.25   |   0.84    |  0.54  |   0.16    |\n",
      "+-----------------+-----------+----------+-----------+--------+-----------+\n",
      "| BorderlineSMOTE |   0.68    |   0.23   |   0.83    |  0.51  |   0.15    |\n",
      "+-----------------+-----------+----------+-----------+--------+-----------+\n",
      "|    SVMSMOTE     |    0.7    |   0.26   |   0.86    |  0.52  |   0.18    |\n",
      "+-----------------+-----------+----------+-----------+--------+-----------+\n",
      "|     SMOTENC     |   0.69    |   0.24   |   0.85    |  0.51  |   0.16    |\n",
      "+-----------------+-----------+----------+-----------+--------+-----------+\n",
      "|   KMeansSMOTE   |   0.69    |   0.29   |   0.89    |  0.47  |   0.21    |\n",
      "+-----------------+-----------+----------+-----------+--------+-----------+\n",
      "|     ADASYN      |    0.7    |   0.24   |   0.83    |  0.55  |   0.15    |\n",
      "+-----------------+-----------+----------+-----------+--------+-----------+\n"
     ]
    }
   ],
   "source": [
    "print_table()"
   ]
  },
  {
   "cell_type": "markdown",
   "metadata": {},
   "source": [
    "<h3>Decision Tree</h3>"
   ]
  },
  {
   "cell_type": "code",
   "execution_count": 327,
   "metadata": {},
   "outputs": [],
   "source": [
    "from sklearn.tree import DecisionTreeClassifier"
   ]
  },
  {
   "cell_type": "code",
   "execution_count": 328,
   "metadata": {},
   "outputs": [
    {
     "name": "stdout",
     "output_type": "stream",
     "text": [
      "Confusion matrix of SMOTE\n",
      "+----------+----------+----------+\n",
      "|          | Positive | Negative |\n",
      "+----------+----------+----------+\n",
      "| Positive |    56    |    44    |\n",
      "+----------+----------+----------+\n",
      "| Negative |   535    |   1465   |\n",
      "+----------+----------+----------+\n",
      "Confusion matrix of BorderlineSMOTE\n",
      "+----------+----------+----------+\n",
      "|          | Positive | Negative |\n",
      "+----------+----------+----------+\n",
      "| Positive |    49    |    51    |\n",
      "+----------+----------+----------+\n",
      "| Negative |   519    |   1481   |\n",
      "+----------+----------+----------+\n",
      "Confusion matrix of SVMSMOTE\n",
      "+----------+----------+----------+\n",
      "|          | Positive | Negative |\n",
      "+----------+----------+----------+\n",
      "| Positive |    51    |    49    |\n",
      "+----------+----------+----------+\n",
      "| Negative |   506    |   1494   |\n",
      "+----------+----------+----------+\n",
      "Confusion matrix of SMOTENC\n",
      "+----------+----------+----------+\n",
      "|          | Positive | Negative |\n",
      "+----------+----------+----------+\n",
      "| Positive |    50    |    50    |\n",
      "+----------+----------+----------+\n",
      "| Negative |   505    |   1495   |\n",
      "+----------+----------+----------+\n",
      "Confusion matrix of KMeansSMOTE\n",
      "+----------+----------+----------+\n",
      "|          | Positive | Negative |\n",
      "+----------+----------+----------+\n",
      "| Positive |    48    |    52    |\n",
      "+----------+----------+----------+\n",
      "| Negative |   451    |   1549   |\n",
      "+----------+----------+----------+\n",
      "Confusion matrix of ADASYN\n",
      "+----------+----------+----------+\n",
      "|          | Positive | Negative |\n",
      "+----------+----------+----------+\n",
      "| Positive |    51    |    49    |\n",
      "+----------+----------+----------+\n",
      "| Negative |   551    |   1449   |\n",
      "+----------+----------+----------+\n"
     ]
    }
   ],
   "source": [
    "result_dict = {}\n",
    "train_model(DecisionTreeClassifier(random_state=42))"
   ]
  },
  {
   "cell_type": "code",
   "execution_count": 329,
   "metadata": {},
   "outputs": [
    {
     "data": {
      "image/png": "[encoded data removed]",
      "text/plain": [
       "<Figure size 1000x500 with 1 Axes>"
      ]
     },
     "metadata": {},
     "output_type": "display_data"
    }
   ],
   "source": [
    "plot_result()"
   ]
  },
  {
   "cell_type": "code",
   "execution_count": 330,
   "metadata": {},
   "outputs": [
    {
     "name": "stdout",
     "output_type": "stream",
     "text": [
      "+-----------------+-----------+----------+-----------+--------+-----------+\n",
      "|  SMOTE method   | ROC score | F1 score | Acc score | Recall | Precision |\n",
      "+-----------------+-----------+----------+-----------+--------+-----------+\n",
      "|      SMOTE      |   0.65    |   0.16   |   0.72    |  0.56  |   0.09    |\n",
      "+-----------------+-----------+----------+-----------+--------+-----------+\n",
      "| BorderlineSMOTE |   0.62    |   0.15   |   0.73    |  0.49  |   0.09    |\n",
      "+-----------------+-----------+----------+-----------+--------+-----------+\n",
      "|    SVMSMOTE     |   0.63    |   0.16   |   0.74    |  0.51  |   0.09    |\n",
      "+-----------------+-----------+----------+-----------+--------+-----------+\n",
      "|     SMOTENC     |   0.62    |   0.15   |   0.74    |  0.5   |   0.09    |\n",
      "+-----------------+-----------+----------+-----------+--------+-----------+\n",
      "|   KMeansSMOTE   |   0.63    |   0.16   |   0.76    |  0.48  |    0.1    |\n",
      "+-----------------+-----------+----------+-----------+--------+-----------+\n",
      "|     ADASYN      |   0.62    |   0.15   |   0.71    |  0.51  |   0.08    |\n",
      "+-----------------+-----------+----------+-----------+--------+-----------+\n"
     ]
    }
   ],
   "source": [
    "print_table()"
   ]
  },
  {
   "cell_type": "markdown",
   "metadata": {},
   "source": [
    "<h3>Logistic Regression</h3>"
   ]
  },
  {
   "cell_type": "code",
   "execution_count": 331,
   "metadata": {},
   "outputs": [],
   "source": [
    "from sklearn.linear_model import LogisticRegression"
   ]
  },
  {
   "cell_type": "code",
   "execution_count": 332,
   "metadata": {},
   "outputs": [
    {
     "name": "stdout",
     "output_type": "stream",
     "text": [
      "Confusion matrix of SMOTE\n",
      "+----------+----------+----------+\n",
      "|          | Positive | Negative |\n",
      "+----------+----------+----------+\n",
      "| Positive |    40    |    60    |\n",
      "+----------+----------+----------+\n",
      "| Negative |   471    |   1529   |\n",
      "+----------+----------+----------+\n",
      "Confusion matrix of BorderlineSMOTE\n",
      "+----------+----------+----------+\n",
      "|          | Positive | Negative |\n",
      "+----------+----------+----------+\n",
      "| Positive |    48    |    52    |\n",
      "+----------+----------+----------+\n",
      "| Negative |   510    |   1490   |\n",
      "+----------+----------+----------+\n",
      "Confusion matrix of SVMSMOTE\n",
      "+----------+----------+----------+\n",
      "|          | Positive | Negative |\n",
      "+----------+----------+----------+\n",
      "| Positive |    45    |    55    |\n",
      "+----------+----------+----------+\n",
      "| Negative |   485    |   1515   |\n",
      "+----------+----------+----------+\n",
      "Confusion matrix of SMOTENC\n",
      "+----------+----------+----------+\n",
      "|          | Positive | Negative |\n",
      "+----------+----------+----------+\n",
      "| Positive |    49    |    51    |\n",
      "+----------+----------+----------+\n",
      "| Negative |   563    |   1437   |\n",
      "+----------+----------+----------+\n",
      "Confusion matrix of KMeansSMOTE\n",
      "+----------+----------+----------+\n",
      "|          | Positive | Negative |\n",
      "+----------+----------+----------+\n",
      "| Positive |    31    |    69    |\n",
      "+----------+----------+----------+\n",
      "| Negative |   304    |   1696   |\n",
      "+----------+----------+----------+\n",
      "Confusion matrix of ADASYN\n",
      "+----------+----------+----------+\n",
      "|          | Positive | Negative |\n",
      "+----------+----------+----------+\n",
      "| Positive |    39    |    61    |\n",
      "+----------+----------+----------+\n",
      "| Negative |   505    |   1495   |\n",
      "+----------+----------+----------+\n"
     ]
    }
   ],
   "source": [
    "result_dict = {}\n",
    "train_model(LogisticRegression(random_state=42))"
   ]
  },
  {
   "cell_type": "code",
   "execution_count": 333,
   "metadata": {},
   "outputs": [
    {
     "data": {
      "image/png": "[encoded data removed]",
      "text/plain": [
       "<Figure size 1000x500 with 1 Axes>"
      ]
     },
     "metadata": {},
     "output_type": "display_data"
    }
   ],
   "source": [
    "plot_result()"
   ]
  },
  {
   "cell_type": "code",
   "execution_count": 334,
   "metadata": {},
   "outputs": [
    {
     "name": "stdout",
     "output_type": "stream",
     "text": [
      "+-----------------+-----------+----------+-----------+--------+-----------+\n",
      "|  SMOTE method   | ROC score | F1 score | Acc score | Recall | Precision |\n",
      "+-----------------+-----------+----------+-----------+--------+-----------+\n",
      "|      SMOTE      |   0.58    |   0.13   |   0.75    |  0.4   |   0.08    |\n",
      "+-----------------+-----------+----------+-----------+--------+-----------+\n",
      "| BorderlineSMOTE |   0.61    |   0.15   |   0.73    |  0.48  |   0.09    |\n",
      "+-----------------+-----------+----------+-----------+--------+-----------+\n",
      "|    SVMSMOTE     |    0.6    |   0.14   |   0.74    |  0.45  |   0.08    |\n",
      "+-----------------+-----------+----------+-----------+--------+-----------+\n",
      "|     SMOTENC     |    0.6    |   0.14   |   0.71    |  0.49  |   0.08    |\n",
      "+-----------------+-----------+----------+-----------+--------+-----------+\n",
      "|   KMeansSMOTE   |   0.58    |   0.14   |   0.82    |  0.31  |   0.09    |\n",
      "+-----------------+-----------+----------+-----------+--------+-----------+\n",
      "|     ADASYN      |   0.57    |   0.12   |   0.73    |  0.39  |   0.07    |\n",
      "+-----------------+-----------+----------+-----------+--------+-----------+\n"
     ]
    }
   ],
   "source": [
    "print_table()"
   ]
  },
  {
   "cell_type": "markdown",
   "metadata": {},
   "source": [
    "<h1>Explain</h1>"
   ]
  },
  {
   "cell_type": "markdown",
   "metadata": {},
   "source": [
    "<img src='Images//Confusions_matrix.jpg'>"
   ]
  },
  {
   "cell_type": "code",
   "execution_count": null,
   "metadata": {},
   "outputs": [],
   "source": []
  }
 ],
 "metadata": {
  "kernelspec": {
   "display_name": "base",
   "language": "python",
   "name": "python3"
  },
  "language_info": {
   "codemirror_mode": {
    "name": "ipython",
    "version": 3
   },
   "file_extension": ".py",
   "mimetype": "text/x-python",
   "name": "python",
   "nbconvert_exporter": "python",
   "pygments_lexer": "ipython3",
   "version": "3.11.5"
  }
 },
 "nbformat": 4,
 "nbformat_minor": 2
}
