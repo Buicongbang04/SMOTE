{
 "cells": [
  {
   "cell_type": "code",
   "execution_count": 73,
   "metadata": {},
   "outputs": [],
   "source": [
    "# !pip install xlrd"
   ]
  },
  {
   "cell_type": "code",
   "execution_count": 74,
   "metadata": {},
   "outputs": [],
   "source": [
    "import warnings\n",
    "warnings.filterwarnings('ignore')"
   ]
  },
  {
   "cell_type": "code",
   "execution_count": 75,
   "metadata": {},
   "outputs": [
    {
     "name": "stdout",
     "output_type": "stream",
     "text": [
      "<class 'pandas.core.frame.DataFrame'>\n",
      "Index: 30000 entries, 1 to 30000\n",
      "Data columns (total 24 columns):\n",
      " #   Column                      Non-Null Count  Dtype\n",
      "---  ------                      --------------  -----\n",
      " 0   LIMIT_BAL                   30000 non-null  int64\n",
      " 1   SEX                         30000 non-null  int64\n",
      " 2   EDUCATION                   30000 non-null  int64\n",
      " 3   MARRIAGE                    30000 non-null  int64\n",
      " 4   AGE                         30000 non-null  int64\n",
      " 5   PAY_0                       30000 non-null  int64\n",
      " 6   PAY_2                       30000 non-null  int64\n",
      " 7   PAY_3                       30000 non-null  int64\n",
      " 8   PAY_4                       30000 non-null  int64\n",
      " 9   PAY_5                       30000 non-null  int64\n",
      " 10  PAY_6                       30000 non-null  int64\n",
      " 11  BILL_AMT1                   30000 non-null  int64\n",
      " 12  BILL_AMT2                   30000 non-null  int64\n",
      " 13  BILL_AMT3                   30000 non-null  int64\n",
      " 14  BILL_AMT4                   30000 non-null  int64\n",
      " 15  BILL_AMT5                   30000 non-null  int64\n",
      " 16  BILL_AMT6                   30000 non-null  int64\n",
      " 17  PAY_AMT1                    30000 non-null  int64\n",
      " 18  PAY_AMT2                    30000 non-null  int64\n",
      " 19  PAY_AMT3                    30000 non-null  int64\n",
      " 20  PAY_AMT4                    30000 non-null  int64\n",
      " 21  PAY_AMT5                    30000 non-null  int64\n",
      " 22  PAY_AMT6                    30000 non-null  int64\n",
      " 23  default payment next month  30000 non-null  int64\n",
      "dtypes: int64(24)\n",
      "memory usage: 5.7 MB\n"
     ]
    }
   ],
   "source": [
    "import os\n",
    "import pandas as pd\n",
    "\n",
    "pd.set_option('display.max_columns', None)\n",
    "pd.set_option('display.max_rows', None)\n",
    "\n",
    "dataset = pd.read_excel('credit_card.xls', header=1, index_col=0)\n",
    "dataset.info()"
   ]
  },
  {
   "cell_type": "code",
   "execution_count": 76,
   "metadata": {},
   "outputs": [
    {
     "data": {
      "text/html": [
       "<div>\n",
       "<style scoped>\n",
       "    .dataframe tbody tr th:only-of-type {\n",
       "        vertical-align: middle;\n",
       "    }\n",
       "\n",
       "    .dataframe tbody tr th {\n",
       "        vertical-align: top;\n",
       "    }\n",
       "\n",
       "    .dataframe thead th {\n",
       "        text-align: right;\n",
       "    }\n",
       "</style>\n",
       "<table border=\"1\" class=\"dataframe\">\n",
       "  <thead>\n",
       "    <tr style=\"text-align: right;\">\n",
       "      <th></th>\n",
       "      <th>LIMIT_BAL</th>\n",
       "      <th>SEX</th>\n",
       "      <th>EDUCATION</th>\n",
       "      <th>MARRIAGE</th>\n",
       "      <th>AGE</th>\n",
       "      <th>PAY_0</th>\n",
       "      <th>PAY_2</th>\n",
       "      <th>PAY_3</th>\n",
       "      <th>PAY_4</th>\n",
       "      <th>PAY_5</th>\n",
       "      <th>PAY_6</th>\n",
       "      <th>BILL_AMT1</th>\n",
       "      <th>BILL_AMT2</th>\n",
       "      <th>BILL_AMT3</th>\n",
       "      <th>BILL_AMT4</th>\n",
       "      <th>BILL_AMT5</th>\n",
       "      <th>BILL_AMT6</th>\n",
       "      <th>PAY_AMT1</th>\n",
       "      <th>PAY_AMT2</th>\n",
       "      <th>PAY_AMT3</th>\n",
       "      <th>PAY_AMT4</th>\n",
       "      <th>PAY_AMT5</th>\n",
       "      <th>PAY_AMT6</th>\n",
       "      <th>default payment next month</th>\n",
       "    </tr>\n",
       "    <tr>\n",
       "      <th>ID</th>\n",
       "      <th></th>\n",
       "      <th></th>\n",
       "      <th></th>\n",
       "      <th></th>\n",
       "      <th></th>\n",
       "      <th></th>\n",
       "      <th></th>\n",
       "      <th></th>\n",
       "      <th></th>\n",
       "      <th></th>\n",
       "      <th></th>\n",
       "      <th></th>\n",
       "      <th></th>\n",
       "      <th></th>\n",
       "      <th></th>\n",
       "      <th></th>\n",
       "      <th></th>\n",
       "      <th></th>\n",
       "      <th></th>\n",
       "      <th></th>\n",
       "      <th></th>\n",
       "      <th></th>\n",
       "      <th></th>\n",
       "      <th></th>\n",
       "    </tr>\n",
       "  </thead>\n",
       "  <tbody>\n",
       "    <tr>\n",
       "      <th>1</th>\n",
       "      <td>20000</td>\n",
       "      <td>2</td>\n",
       "      <td>2</td>\n",
       "      <td>1</td>\n",
       "      <td>24</td>\n",
       "      <td>2</td>\n",
       "      <td>2</td>\n",
       "      <td>-1</td>\n",
       "      <td>-1</td>\n",
       "      <td>-2</td>\n",
       "      <td>-2</td>\n",
       "      <td>3913</td>\n",
       "      <td>3102</td>\n",
       "      <td>689</td>\n",
       "      <td>0</td>\n",
       "      <td>0</td>\n",
       "      <td>0</td>\n",
       "      <td>0</td>\n",
       "      <td>689</td>\n",
       "      <td>0</td>\n",
       "      <td>0</td>\n",
       "      <td>0</td>\n",
       "      <td>0</td>\n",
       "      <td>1</td>\n",
       "    </tr>\n",
       "    <tr>\n",
       "      <th>2</th>\n",
       "      <td>120000</td>\n",
       "      <td>2</td>\n",
       "      <td>2</td>\n",
       "      <td>2</td>\n",
       "      <td>26</td>\n",
       "      <td>-1</td>\n",
       "      <td>2</td>\n",
       "      <td>0</td>\n",
       "      <td>0</td>\n",
       "      <td>0</td>\n",
       "      <td>2</td>\n",
       "      <td>2682</td>\n",
       "      <td>1725</td>\n",
       "      <td>2682</td>\n",
       "      <td>3272</td>\n",
       "      <td>3455</td>\n",
       "      <td>3261</td>\n",
       "      <td>0</td>\n",
       "      <td>1000</td>\n",
       "      <td>1000</td>\n",
       "      <td>1000</td>\n",
       "      <td>0</td>\n",
       "      <td>2000</td>\n",
       "      <td>1</td>\n",
       "    </tr>\n",
       "    <tr>\n",
       "      <th>3</th>\n",
       "      <td>90000</td>\n",
       "      <td>2</td>\n",
       "      <td>2</td>\n",
       "      <td>2</td>\n",
       "      <td>34</td>\n",
       "      <td>0</td>\n",
       "      <td>0</td>\n",
       "      <td>0</td>\n",
       "      <td>0</td>\n",
       "      <td>0</td>\n",
       "      <td>0</td>\n",
       "      <td>29239</td>\n",
       "      <td>14027</td>\n",
       "      <td>13559</td>\n",
       "      <td>14331</td>\n",
       "      <td>14948</td>\n",
       "      <td>15549</td>\n",
       "      <td>1518</td>\n",
       "      <td>1500</td>\n",
       "      <td>1000</td>\n",
       "      <td>1000</td>\n",
       "      <td>1000</td>\n",
       "      <td>5000</td>\n",
       "      <td>0</td>\n",
       "    </tr>\n",
       "    <tr>\n",
       "      <th>4</th>\n",
       "      <td>50000</td>\n",
       "      <td>2</td>\n",
       "      <td>2</td>\n",
       "      <td>1</td>\n",
       "      <td>37</td>\n",
       "      <td>0</td>\n",
       "      <td>0</td>\n",
       "      <td>0</td>\n",
       "      <td>0</td>\n",
       "      <td>0</td>\n",
       "      <td>0</td>\n",
       "      <td>46990</td>\n",
       "      <td>48233</td>\n",
       "      <td>49291</td>\n",
       "      <td>28314</td>\n",
       "      <td>28959</td>\n",
       "      <td>29547</td>\n",
       "      <td>2000</td>\n",
       "      <td>2019</td>\n",
       "      <td>1200</td>\n",
       "      <td>1100</td>\n",
       "      <td>1069</td>\n",
       "      <td>1000</td>\n",
       "      <td>0</td>\n",
       "    </tr>\n",
       "    <tr>\n",
       "      <th>5</th>\n",
       "      <td>50000</td>\n",
       "      <td>1</td>\n",
       "      <td>2</td>\n",
       "      <td>1</td>\n",
       "      <td>57</td>\n",
       "      <td>-1</td>\n",
       "      <td>0</td>\n",
       "      <td>-1</td>\n",
       "      <td>0</td>\n",
       "      <td>0</td>\n",
       "      <td>0</td>\n",
       "      <td>8617</td>\n",
       "      <td>5670</td>\n",
       "      <td>35835</td>\n",
       "      <td>20940</td>\n",
       "      <td>19146</td>\n",
       "      <td>19131</td>\n",
       "      <td>2000</td>\n",
       "      <td>36681</td>\n",
       "      <td>10000</td>\n",
       "      <td>9000</td>\n",
       "      <td>689</td>\n",
       "      <td>679</td>\n",
       "      <td>0</td>\n",
       "    </tr>\n",
       "  </tbody>\n",
       "</table>\n",
       "</div>"
      ],
      "text/plain": [
       "    LIMIT_BAL  SEX  EDUCATION  MARRIAGE  AGE  PAY_0  PAY_2  PAY_3  PAY_4  \\\n",
       "ID                                                                         \n",
       "1       20000    2          2         1   24      2      2     -1     -1   \n",
       "2      120000    2          2         2   26     -1      2      0      0   \n",
       "3       90000    2          2         2   34      0      0      0      0   \n",
       "4       50000    2          2         1   37      0      0      0      0   \n",
       "5       50000    1          2         1   57     -1      0     -1      0   \n",
       "\n",
       "    PAY_5  PAY_6  BILL_AMT1  BILL_AMT2  BILL_AMT3  BILL_AMT4  BILL_AMT5  \\\n",
       "ID                                                                        \n",
       "1      -2     -2       3913       3102        689          0          0   \n",
       "2       0      2       2682       1725       2682       3272       3455   \n",
       "3       0      0      29239      14027      13559      14331      14948   \n",
       "4       0      0      46990      48233      49291      28314      28959   \n",
       "5       0      0       8617       5670      35835      20940      19146   \n",
       "\n",
       "    BILL_AMT6  PAY_AMT1  PAY_AMT2  PAY_AMT3  PAY_AMT4  PAY_AMT5  PAY_AMT6  \\\n",
       "ID                                                                          \n",
       "1           0         0       689         0         0         0         0   \n",
       "2        3261         0      1000      1000      1000         0      2000   \n",
       "3       15549      1518      1500      1000      1000      1000      5000   \n",
       "4       29547      2000      2019      1200      1100      1069      1000   \n",
       "5       19131      2000     36681     10000      9000       689       679   \n",
       "\n",
       "    default payment next month  \n",
       "ID                              \n",
       "1                            1  \n",
       "2                            1  \n",
       "3                            0  \n",
       "4                            0  \n",
       "5                            0  "
      ]
     },
     "execution_count": 76,
     "metadata": {},
     "output_type": "execute_result"
    }
   ],
   "source": [
    "dataset.head()"
   ]
  },
  {
   "cell_type": "code",
   "execution_count": 77,
   "metadata": {},
   "outputs": [
    {
     "data": {
      "text/plain": [
       "LIMIT_BAL                     0\n",
       "SEX                           0\n",
       "EDUCATION                     0\n",
       "MARRIAGE                      0\n",
       "AGE                           0\n",
       "PAY_0                         0\n",
       "PAY_2                         0\n",
       "PAY_3                         0\n",
       "PAY_4                         0\n",
       "PAY_5                         0\n",
       "PAY_6                         0\n",
       "BILL_AMT1                     0\n",
       "BILL_AMT2                     0\n",
       "BILL_AMT3                     0\n",
       "BILL_AMT4                     0\n",
       "BILL_AMT5                     0\n",
       "BILL_AMT6                     0\n",
       "PAY_AMT1                      0\n",
       "PAY_AMT2                      0\n",
       "PAY_AMT3                      0\n",
       "PAY_AMT4                      0\n",
       "PAY_AMT5                      0\n",
       "PAY_AMT6                      0\n",
       "default payment next month    0\n",
       "dtype: int64"
      ]
     },
     "execution_count": 77,
     "metadata": {},
     "output_type": "execute_result"
    }
   ],
   "source": [
    "dataset.isna().sum()"
   ]
  },
  {
   "cell_type": "code",
   "execution_count": 78,
   "metadata": {},
   "outputs": [],
   "source": [
    "import numpy as np"
   ]
  },
  {
   "cell_type": "code",
   "execution_count": 79,
   "metadata": {},
   "outputs": [],
   "source": [
    "model_features = list(set(dataset.columns).difference({\"ID\", \"default payment next month\"}))\n",
    "target = [\"default payment next month\"]\n",
    "X = dataset[model_features]\n",
    "y = dataset[target]"
   ]
  },
  {
   "cell_type": "code",
   "execution_count": 80,
   "metadata": {},
   "outputs": [],
   "source": [
    "id_pos = np.where(y.values.reshape(-1) == 1)[0]\n",
    "id_neg = np.where(y.values.reshape(-1) == 0)[0]"
   ]
  },
  {
   "cell_type": "code",
   "execution_count": 81,
   "metadata": {},
   "outputs": [],
   "source": [
    "np.random.shuffle(id_pos)\n",
    "np.random.shuffle(id_neg)"
   ]
  },
  {
   "cell_type": "code",
   "execution_count": 82,
   "metadata": {},
   "outputs": [],
   "source": [
    "# Tập train:\n",
    "id_train_neg = id_neg[:10000] \n",
    "id_train_pos = id_pos[:500]\n",
    "id_train = np.concatenate((id_train_neg, id_train_pos), axis = 0)"
   ]
  },
  {
   "cell_type": "code",
   "execution_count": 83,
   "metadata": {},
   "outputs": [],
   "source": [
    "# Tập val:\n",
    "id_val_neg = id_neg[10000:12000]\n",
    "id_val_pos = id_pos[500:600]\n",
    "id_val = np.concatenate((id_val_neg, id_val_pos), axis = 0)"
   ]
  },
  {
   "cell_type": "code",
   "execution_count": 84,
   "metadata": {},
   "outputs": [],
   "source": [
    "# Tập test:\n",
    "id_test_neg = id_neg[14000:16000]\n",
    "id_test_pos = id_pos[700:800]\n",
    "id_test = np.concatenate((id_test_neg, id_test_pos), axis = 0)"
   ]
  },
  {
   "cell_type": "code",
   "execution_count": 85,
   "metadata": {},
   "outputs": [],
   "source": [
    "# khởi tạo dataset\n",
    "data_train = dataset.iloc[id_train]\n",
    "data_val = dataset.iloc[id_val]\n",
    "data_test = dataset.iloc[id_test] "
   ]
  },
  {
   "cell_type": "code",
   "execution_count": 86,
   "metadata": {},
   "outputs": [
    {
     "name": "stdout",
     "output_type": "stream",
     "text": [
      "data train shape:  (10500, 24)\n",
      "data val shape:  (2100, 24)\n",
      "data test shape:  (2100, 24)\n"
     ]
    }
   ],
   "source": [
    "print('data train shape: ', data_train.shape)\n",
    "print('data val shape: ', data_val.shape)\n",
    "print('data test shape: ', data_test.shape)"
   ]
  },
  {
   "cell_type": "markdown",
   "metadata": {},
   "source": [
    "<h1>Xây dựng model</h1>"
   ]
  },
  {
   "cell_type": "code",
   "execution_count": 87,
   "metadata": {},
   "outputs": [],
   "source": [
    "from sklearn.calibration import calibration_curve, CalibratedClassifierCV\n",
    "from sklearn.ensemble import RandomForestClassifier\n",
    "from sklearn.model_selection import train_test_split\n",
    "from sklearn.metrics import roc_auc_score, f1_score\n",
    "import matplotlib.pyplot as plt"
   ]
  },
  {
   "cell_type": "code",
   "execution_count": 88,
   "metadata": {},
   "outputs": [],
   "source": [
    "model1 = RandomForestClassifier(n_estimators=100,\n",
    "                                max_depth=5,\n",
    "                                min_samples_split=200,\n",
    "                                class_weight=None,\n",
    "                                max_features=10)"
   ]
  },
  {
   "cell_type": "code",
   "execution_count": 89,
   "metadata": {},
   "outputs": [],
   "source": [
    "model2 = RandomForestClassifier(n_estimators=500, \n",
    "                                max_depth=10, \n",
    "                                min_samples_split=400, \n",
    "                                random_state=12, \n",
    "                                class_weight=\"balanced\",\n",
    "                                max_features=\"auto\")"
   ]
  },
  {
   "cell_type": "code",
   "execution_count": 90,
   "metadata": {},
   "outputs": [],
   "source": [
    "model3 = RandomForestClassifier(n_estimators=800, \n",
    "                                max_depth=10, \n",
    "                                min_samples_split=200, \n",
    "                                random_state=12, \n",
    "                                class_weight=\"balanced\",\n",
    "                                max_features=\"sqrt\")"
   ]
  },
  {
   "cell_type": "code",
   "execution_count": 91,
   "metadata": {},
   "outputs": [],
   "source": [
    "def _tunning_model(model , X_train, y_train, X_dev, y_dev):\n",
    "  model.fit(X_train, y_train)\n",
    "  model_predictions = model.predict_proba(X_dev)\n",
    "  model_roc_score = roc_auc_score(y_dev, \n",
    "                                  model_predictions[:,1])\n",
    "  return model, model_roc_score"
   ]
  },
  {
   "cell_type": "code",
   "execution_count": 92,
   "metadata": {},
   "outputs": [
    {
     "name": "stdout",
     "output_type": "stream",
     "text": [
      "model 1 ROC score on dev dataset:  0.7756075\n"
     ]
    }
   ],
   "source": [
    "model1, model1_roc_score = _tunning_model(model1, \n",
    "                                          data_train[model_features], data_train['default payment next month'],\n",
    "                                          data_val[model_features], data_val['default payment next month'])\n",
    "print('model 1 ROC score on dev dataset: ', model1_roc_score)"
   ]
  },
  {
   "cell_type": "code",
   "execution_count": 93,
   "metadata": {},
   "outputs": [
    {
     "name": "stdout",
     "output_type": "stream",
     "text": [
      "model 2 ROC score on dev dataset:  0.7624600000000001\n"
     ]
    }
   ],
   "source": [
    "model2, model2_roc_score = _tunning_model(model2, \n",
    "                                          data_train[model_features], data_train['default payment next month'],\n",
    "                                          data_val[model_features], data_val['default payment next month'])\n",
    "print('model 2 ROC score on dev dataset: ', model2_roc_score)"
   ]
  },
  {
   "cell_type": "code",
   "execution_count": 94,
   "metadata": {},
   "outputs": [
    {
     "name": "stdout",
     "output_type": "stream",
     "text": [
      "model 3 ROC score on dev dataset:  0.76368\n"
     ]
    }
   ],
   "source": [
    "model3, model3_roc_score = _tunning_model(model3, \n",
    "                                          data_train[model_features], data_train['default payment next month'],\n",
    "                                          data_val[model_features], data_val['default payment next month'])\n",
    "print('model 3 ROC score on dev dataset: ', model3_roc_score)"
   ]
  },
  {
   "cell_type": "markdown",
   "metadata": {},
   "source": [
    "<h1>Over Sampling</h1>"
   ]
  },
  {
   "cell_type": "code",
   "execution_count": 133,
   "metadata": {},
   "outputs": [],
   "source": [
    "from collections import Counter\n",
    "\n",
    "import matplotlib.pyplot as plt\n",
    "import seaborn as sns\n",
    "import numpy as np\n",
    "\n",
    "from sklearn.datasets import make_classification\n",
    "from sklearn.svm import LinearSVC\n",
    "from sklearn.calibration import calibration_curve, CalibratedClassifierCV\n",
    "from sklearn.ensemble import RandomForestClassifier\n",
    "from sklearn.model_selection import train_test_split\n",
    "from sklearn.metrics import roc_auc_score, f1_score\n",
    "from sklearn.pipeline import Pipeline\n",
    "\n",
    "from imblearn.pipeline import make_pipeline\n",
    "from imblearn.over_sampling import RandomOverSampler\n",
    "from imblearn.base import BaseSampler"
   ]
  },
  {
   "cell_type": "code",
   "execution_count": 96,
   "metadata": {},
   "outputs": [],
   "source": [
    "model_smote = RandomForestClassifier(n_estimators=500, \n",
    "                                max_depth=10, \n",
    "                                min_samples_split=400, \n",
    "                                random_state=12, \n",
    "                                class_weight=\"balanced\",\n",
    "                                max_features=\"auto\")"
   ]
  },
  {
   "cell_type": "code",
   "execution_count": 97,
   "metadata": {},
   "outputs": [
    {
     "data": {
      "text/html": [
       "<style>#sk-container-id-3 {color: black;background-color: white;}#sk-container-id-3 pre{padding: 0;}#sk-container-id-3 div.sk-toggleable {background-color: white;}#sk-container-id-3 label.sk-toggleable__label {cursor: pointer;display: block;width: 100%;margin-bottom: 0;padding: 0.3em;box-sizing: border-box;text-align: center;}#sk-container-id-3 label.sk-toggleable__label-arrow:before {content: \"▸\";float: left;margin-right: 0.25em;color: #696969;}#sk-container-id-3 label.sk-toggleable__label-arrow:hover:before {color: black;}#sk-container-id-3 div.sk-estimator:hover label.sk-toggleable__label-arrow:before {color: black;}#sk-container-id-3 div.sk-toggleable__content {max-height: 0;max-width: 0;overflow: hidden;text-align: left;background-color: #f0f8ff;}#sk-container-id-3 div.sk-toggleable__content pre {margin: 0.2em;color: black;border-radius: 0.25em;background-color: #f0f8ff;}#sk-container-id-3 input.sk-toggleable__control:checked~div.sk-toggleable__content {max-height: 200px;max-width: 100%;overflow: auto;}#sk-container-id-3 input.sk-toggleable__control:checked~label.sk-toggleable__label-arrow:before {content: \"▾\";}#sk-container-id-3 div.sk-estimator input.sk-toggleable__control:checked~label.sk-toggleable__label {background-color: #d4ebff;}#sk-container-id-3 div.sk-label input.sk-toggleable__control:checked~label.sk-toggleable__label {background-color: #d4ebff;}#sk-container-id-3 input.sk-hidden--visually {border: 0;clip: rect(1px 1px 1px 1px);clip: rect(1px, 1px, 1px, 1px);height: 1px;margin: -1px;overflow: hidden;padding: 0;position: absolute;width: 1px;}#sk-container-id-3 div.sk-estimator {font-family: monospace;background-color: #f0f8ff;border: 1px dotted black;border-radius: 0.25em;box-sizing: border-box;margin-bottom: 0.5em;}#sk-container-id-3 div.sk-estimator:hover {background-color: #d4ebff;}#sk-container-id-3 div.sk-parallel-item::after {content: \"\";width: 100%;border-bottom: 1px solid gray;flex-grow: 1;}#sk-container-id-3 div.sk-label:hover label.sk-toggleable__label {background-color: #d4ebff;}#sk-container-id-3 div.sk-serial::before {content: \"\";position: absolute;border-left: 1px solid gray;box-sizing: border-box;top: 0;bottom: 0;left: 50%;z-index: 0;}#sk-container-id-3 div.sk-serial {display: flex;flex-direction: column;align-items: center;background-color: white;padding-right: 0.2em;padding-left: 0.2em;position: relative;}#sk-container-id-3 div.sk-item {position: relative;z-index: 1;}#sk-container-id-3 div.sk-parallel {display: flex;align-items: stretch;justify-content: center;background-color: white;position: relative;}#sk-container-id-3 div.sk-item::before, #sk-container-id-3 div.sk-parallel-item::before {content: \"\";position: absolute;border-left: 1px solid gray;box-sizing: border-box;top: 0;bottom: 0;left: 50%;z-index: -1;}#sk-container-id-3 div.sk-parallel-item {display: flex;flex-direction: column;z-index: 1;position: relative;background-color: white;}#sk-container-id-3 div.sk-parallel-item:first-child::after {align-self: flex-end;width: 50%;}#sk-container-id-3 div.sk-parallel-item:last-child::after {align-self: flex-start;width: 50%;}#sk-container-id-3 div.sk-parallel-item:only-child::after {width: 0;}#sk-container-id-3 div.sk-dashed-wrapped {border: 1px dashed gray;margin: 0 0.4em 0.5em 0.4em;box-sizing: border-box;padding-bottom: 0.4em;background-color: white;}#sk-container-id-3 div.sk-label label {font-family: monospace;font-weight: bold;display: inline-block;line-height: 1.2em;}#sk-container-id-3 div.sk-label-container {text-align: center;}#sk-container-id-3 div.sk-container {/* jupyter's `normalize.less` sets `[hidden] { display: none; }` but bootstrap.min.css set `[hidden] { display: none !important; }` so we also need the `!important` here to be able to override the default hidden behavior on the sphinx rendered scikit-learn.org. See: https://github.com/scikit-learn/scikit-learn/issues/21755 */display: inline-block !important;position: relative;}#sk-container-id-3 div.sk-text-repr-fallback {display: none;}</style><div id=\"sk-container-id-3\" class=\"sk-top-container\"><div class=\"sk-text-repr-fallback\"><pre>Pipeline(steps=[(&#x27;randomoversampler&#x27;,\n",
       "                 RandomOverSampler(random_state=0, sampling_strategy=1)),\n",
       "                (&#x27;randomforestclassifier&#x27;,\n",
       "                 RandomForestClassifier(class_weight=&#x27;balanced&#x27;, max_depth=10,\n",
       "                                        max_features=&#x27;auto&#x27;,\n",
       "                                        min_samples_split=400, n_estimators=500,\n",
       "                                        random_state=12))])</pre><b>In a Jupyter environment, please rerun this cell to show the HTML representation or trust the notebook. <br />On GitHub, the HTML representation is unable to render, please try loading this page with nbviewer.org.</b></div><div class=\"sk-container\" hidden><div class=\"sk-item sk-dashed-wrapped\"><div class=\"sk-label-container\"><div class=\"sk-label sk-toggleable\"><input class=\"sk-toggleable__control sk-hidden--visually\" id=\"sk-estimator-id-7\" type=\"checkbox\" ><label for=\"sk-estimator-id-7\" class=\"sk-toggleable__label sk-toggleable__label-arrow\">Pipeline</label><div class=\"sk-toggleable__content\"><pre>Pipeline(steps=[(&#x27;randomoversampler&#x27;,\n",
       "                 RandomOverSampler(random_state=0, sampling_strategy=1)),\n",
       "                (&#x27;randomforestclassifier&#x27;,\n",
       "                 RandomForestClassifier(class_weight=&#x27;balanced&#x27;, max_depth=10,\n",
       "                                        max_features=&#x27;auto&#x27;,\n",
       "                                        min_samples_split=400, n_estimators=500,\n",
       "                                        random_state=12))])</pre></div></div></div><div class=\"sk-serial\"><div class=\"sk-item\"><div class=\"sk-estimator sk-toggleable\"><input class=\"sk-toggleable__control sk-hidden--visually\" id=\"sk-estimator-id-8\" type=\"checkbox\" ><label for=\"sk-estimator-id-8\" class=\"sk-toggleable__label sk-toggleable__label-arrow\">RandomOverSampler</label><div class=\"sk-toggleable__content\"><pre>RandomOverSampler(random_state=0, sampling_strategy=1)</pre></div></div></div><div class=\"sk-item\"><div class=\"sk-estimator sk-toggleable\"><input class=\"sk-toggleable__control sk-hidden--visually\" id=\"sk-estimator-id-9\" type=\"checkbox\" ><label for=\"sk-estimator-id-9\" class=\"sk-toggleable__label sk-toggleable__label-arrow\">RandomForestClassifier</label><div class=\"sk-toggleable__content\"><pre>RandomForestClassifier(class_weight=&#x27;balanced&#x27;, max_depth=10,\n",
       "                       max_features=&#x27;auto&#x27;, min_samples_split=400,\n",
       "                       n_estimators=500, random_state=12)</pre></div></div></div></div></div></div></div>"
      ],
      "text/plain": [
       "Pipeline(steps=[('randomoversampler',\n",
       "                 RandomOverSampler(random_state=0, sampling_strategy=1)),\n",
       "                ('randomforestclassifier',\n",
       "                 RandomForestClassifier(class_weight='balanced', max_depth=10,\n",
       "                                        max_features='auto',\n",
       "                                        min_samples_split=400, n_estimators=500,\n",
       "                                        random_state=12))])"
      ]
     },
     "execution_count": 97,
     "metadata": {},
     "output_type": "execute_result"
    }
   ],
   "source": [
    "pipe = make_pipeline(RandomOverSampler(sampling_strategy=1, random_state=0), model_smote)\n",
    "pipe.fit(data_train[model_features], data_train['default payment next month'])"
   ]
  },
  {
   "cell_type": "code",
   "execution_count": 98,
   "metadata": {},
   "outputs": [
    {
     "data": {
      "text/html": [
       "<style>#sk-container-id-4 {color: black;background-color: white;}#sk-container-id-4 pre{padding: 0;}#sk-container-id-4 div.sk-toggleable {background-color: white;}#sk-container-id-4 label.sk-toggleable__label {cursor: pointer;display: block;width: 100%;margin-bottom: 0;padding: 0.3em;box-sizing: border-box;text-align: center;}#sk-container-id-4 label.sk-toggleable__label-arrow:before {content: \"▸\";float: left;margin-right: 0.25em;color: #696969;}#sk-container-id-4 label.sk-toggleable__label-arrow:hover:before {color: black;}#sk-container-id-4 div.sk-estimator:hover label.sk-toggleable__label-arrow:before {color: black;}#sk-container-id-4 div.sk-toggleable__content {max-height: 0;max-width: 0;overflow: hidden;text-align: left;background-color: #f0f8ff;}#sk-container-id-4 div.sk-toggleable__content pre {margin: 0.2em;color: black;border-radius: 0.25em;background-color: #f0f8ff;}#sk-container-id-4 input.sk-toggleable__control:checked~div.sk-toggleable__content {max-height: 200px;max-width: 100%;overflow: auto;}#sk-container-id-4 input.sk-toggleable__control:checked~label.sk-toggleable__label-arrow:before {content: \"▾\";}#sk-container-id-4 div.sk-estimator input.sk-toggleable__control:checked~label.sk-toggleable__label {background-color: #d4ebff;}#sk-container-id-4 div.sk-label input.sk-toggleable__control:checked~label.sk-toggleable__label {background-color: #d4ebff;}#sk-container-id-4 input.sk-hidden--visually {border: 0;clip: rect(1px 1px 1px 1px);clip: rect(1px, 1px, 1px, 1px);height: 1px;margin: -1px;overflow: hidden;padding: 0;position: absolute;width: 1px;}#sk-container-id-4 div.sk-estimator {font-family: monospace;background-color: #f0f8ff;border: 1px dotted black;border-radius: 0.25em;box-sizing: border-box;margin-bottom: 0.5em;}#sk-container-id-4 div.sk-estimator:hover {background-color: #d4ebff;}#sk-container-id-4 div.sk-parallel-item::after {content: \"\";width: 100%;border-bottom: 1px solid gray;flex-grow: 1;}#sk-container-id-4 div.sk-label:hover label.sk-toggleable__label {background-color: #d4ebff;}#sk-container-id-4 div.sk-serial::before {content: \"\";position: absolute;border-left: 1px solid gray;box-sizing: border-box;top: 0;bottom: 0;left: 50%;z-index: 0;}#sk-container-id-4 div.sk-serial {display: flex;flex-direction: column;align-items: center;background-color: white;padding-right: 0.2em;padding-left: 0.2em;position: relative;}#sk-container-id-4 div.sk-item {position: relative;z-index: 1;}#sk-container-id-4 div.sk-parallel {display: flex;align-items: stretch;justify-content: center;background-color: white;position: relative;}#sk-container-id-4 div.sk-item::before, #sk-container-id-4 div.sk-parallel-item::before {content: \"\";position: absolute;border-left: 1px solid gray;box-sizing: border-box;top: 0;bottom: 0;left: 50%;z-index: -1;}#sk-container-id-4 div.sk-parallel-item {display: flex;flex-direction: column;z-index: 1;position: relative;background-color: white;}#sk-container-id-4 div.sk-parallel-item:first-child::after {align-self: flex-end;width: 50%;}#sk-container-id-4 div.sk-parallel-item:last-child::after {align-self: flex-start;width: 50%;}#sk-container-id-4 div.sk-parallel-item:only-child::after {width: 0;}#sk-container-id-4 div.sk-dashed-wrapped {border: 1px dashed gray;margin: 0 0.4em 0.5em 0.4em;box-sizing: border-box;padding-bottom: 0.4em;background-color: white;}#sk-container-id-4 div.sk-label label {font-family: monospace;font-weight: bold;display: inline-block;line-height: 1.2em;}#sk-container-id-4 div.sk-label-container {text-align: center;}#sk-container-id-4 div.sk-container {/* jupyter's `normalize.less` sets `[hidden] { display: none; }` but bootstrap.min.css set `[hidden] { display: none !important; }` so we also need the `!important` here to be able to override the default hidden behavior on the sphinx rendered scikit-learn.org. See: https://github.com/scikit-learn/scikit-learn/issues/21755 */display: inline-block !important;position: relative;}#sk-container-id-4 div.sk-text-repr-fallback {display: none;}</style><div id=\"sk-container-id-4\" class=\"sk-top-container\"><div class=\"sk-text-repr-fallback\"><pre>Pipeline(steps=[(&#x27;randomoversampler&#x27;, RandomOverSampler(random_state=0)),\n",
       "                (&#x27;randomforestclassifier&#x27;,\n",
       "                 RandomForestClassifier(class_weight=&#x27;balanced&#x27;, max_depth=10,\n",
       "                                        max_features=&#x27;auto&#x27;,\n",
       "                                        min_samples_split=400, n_estimators=500,\n",
       "                                        random_state=12))])</pre><b>In a Jupyter environment, please rerun this cell to show the HTML representation or trust the notebook. <br />On GitHub, the HTML representation is unable to render, please try loading this page with nbviewer.org.</b></div><div class=\"sk-container\" hidden><div class=\"sk-item sk-dashed-wrapped\"><div class=\"sk-label-container\"><div class=\"sk-label sk-toggleable\"><input class=\"sk-toggleable__control sk-hidden--visually\" id=\"sk-estimator-id-10\" type=\"checkbox\" ><label for=\"sk-estimator-id-10\" class=\"sk-toggleable__label sk-toggleable__label-arrow\">Pipeline</label><div class=\"sk-toggleable__content\"><pre>Pipeline(steps=[(&#x27;randomoversampler&#x27;, RandomOverSampler(random_state=0)),\n",
       "                (&#x27;randomforestclassifier&#x27;,\n",
       "                 RandomForestClassifier(class_weight=&#x27;balanced&#x27;, max_depth=10,\n",
       "                                        max_features=&#x27;auto&#x27;,\n",
       "                                        min_samples_split=400, n_estimators=500,\n",
       "                                        random_state=12))])</pre></div></div></div><div class=\"sk-serial\"><div class=\"sk-item\"><div class=\"sk-estimator sk-toggleable\"><input class=\"sk-toggleable__control sk-hidden--visually\" id=\"sk-estimator-id-11\" type=\"checkbox\" ><label for=\"sk-estimator-id-11\" class=\"sk-toggleable__label sk-toggleable__label-arrow\">RandomOverSampler</label><div class=\"sk-toggleable__content\"><pre>RandomOverSampler(random_state=0)</pre></div></div></div><div class=\"sk-item\"><div class=\"sk-estimator sk-toggleable\"><input class=\"sk-toggleable__control sk-hidden--visually\" id=\"sk-estimator-id-12\" type=\"checkbox\" ><label for=\"sk-estimator-id-12\" class=\"sk-toggleable__label sk-toggleable__label-arrow\">RandomForestClassifier</label><div class=\"sk-toggleable__content\"><pre>RandomForestClassifier(class_weight=&#x27;balanced&#x27;, max_depth=10,\n",
       "                       max_features=&#x27;auto&#x27;, min_samples_split=400,\n",
       "                       n_estimators=500, random_state=12)</pre></div></div></div></div></div></div></div>"
      ],
      "text/plain": [
       "Pipeline(steps=[('randomoversampler', RandomOverSampler(random_state=0)),\n",
       "                ('randomforestclassifier',\n",
       "                 RandomForestClassifier(class_weight='balanced', max_depth=10,\n",
       "                                        max_features='auto',\n",
       "                                        min_samples_split=400, n_estimators=500,\n",
       "                                        random_state=12))])"
      ]
     },
     "execution_count": 98,
     "metadata": {},
     "output_type": "execute_result"
    }
   ],
   "source": [
    "Pipeline(memory=None,\n",
    "         steps=[('randomoversampler',\n",
    "                 RandomOverSampler(random_state=0)),\n",
    "                ('randomforestclassifier',\n",
    "                 RandomForestClassifier(bootstrap=True, ccp_alpha=0.0,\n",
    "                                        class_weight='balanced',\n",
    "                                        criterion='gini', max_depth=10,\n",
    "                                        max_features='auto',\n",
    "                                        max_leaf_nodes=None, max_samples=None,\n",
    "                                        min_impurity_decrease=0.0,\n",
    "                                        min_samples_leaf=1,\n",
    "                                        min_samples_split=400,\n",
    "                                        min_weight_fraction_leaf=0.0,\n",
    "                                        n_estimators=500, n_jobs=None,\n",
    "                                        oob_score=False, random_state=12,\n",
    "                                        verbose=0, warm_start=False))],\n",
    "         verbose=False)"
   ]
  },
  {
   "cell_type": "code",
   "execution_count": 99,
   "metadata": {},
   "outputs": [
    {
     "name": "stdout",
     "output_type": "stream",
     "text": [
      "random forest roc score on test:  0.7974899999999999\n",
      "random forest f1 score on test:  0.23689320388349516\n"
     ]
    }
   ],
   "source": [
    "model_smote_predictions = pipe.predict_proba(data_test[model_features])\n",
    "model_smote_pred_label = pipe.predict(data_test[model_features]) \n",
    "model_smote_roc_score = roc_auc_score(data_test['default payment next month'], model_smote_predictions[:,1])\n",
    "model_smote_f1_score = f1_score(data_test['default payment next month'], model_smote_pred_label)\n",
    "print('random forest roc score on test: ', model_smote_roc_score)\n",
    "print('random forest f1 score on test: ', model_smote_f1_score)"
   ]
  },
  {
   "cell_type": "code",
   "execution_count": 100,
   "metadata": {},
   "outputs": [
    {
     "name": "stdout",
     "output_type": "stream",
     "text": [
      "random forest roc score on test:  0.806555\n",
      "random forest f1 score on test:  0.24535315985130107\n"
     ]
    }
   ],
   "source": [
    "model_predictions = model2.predict_proba(data_test[model_features])\n",
    "model_pred_label = model2.predict(data_test[model_features]) \n",
    "model_roc_score = roc_auc_score(data_test['default payment next month'], model_predictions[:,1])\n",
    "model_f1_score = f1_score(data_test['default payment next month'], model_pred_label)\n",
    "print('random forest roc score on test: ', model_roc_score)\n",
    "print('random forest f1 score on test: ', model_f1_score)"
   ]
  },
  {
   "cell_type": "markdown",
   "metadata": {},
   "source": [
    "<h1>SMOTE And Adasyn</h1>"
   ]
  },
  {
   "cell_type": "code",
   "execution_count": 117,
   "metadata": {},
   "outputs": [],
   "source": [
    "from imblearn.pipeline import make_pipeline\n",
    "from imblearn.over_sampling import ADASYN\n",
    "from imblearn.over_sampling import (SMOTE, BorderlineSMOTE, SVMSMOTE, SMOTENC, KMeansSMOTE)\n",
    "from imblearn.over_sampling import RandomOverSampler\n",
    "from imblearn.base import BaseSampler\n",
    "from sklearn.cluster import MiniBatchKMeans as MiniKM\n",
    "\n",
    "clf = MiniKM(n_clusters=100, random_state=0)"
   ]
  },
  {
   "cell_type": "markdown",
   "metadata": {},
   "source": [
    "<h3>Random Forest</h3>"
   ]
  },
  {
   "cell_type": "code",
   "execution_count": 118,
   "metadata": {},
   "outputs": [],
   "source": [
    "rf_clf = RandomForestClassifier(n_estimators=500, \n",
    "                                max_depth=10, \n",
    "                                min_samples_split=400, \n",
    "                                random_state=12, \n",
    "                                class_weight=\"balanced\",\n",
    "                                max_features=\"auto\")"
   ]
  },
  {
   "cell_type": "code",
   "execution_count": 119,
   "metadata": {},
   "outputs": [],
   "source": [
    "smotes = {0 : 'SMOTE',\n",
    "          1 : 'BorderlineSMOTE',\n",
    "          2 : 'SVMSMOTE',\n",
    "          3 : 'SMOTENC',\n",
    "          4 : 'KMeansSMOTE',\n",
    "          5 : 'ADASYN'}"
   ]
  },
  {
   "cell_type": "code",
   "execution_count": 137,
   "metadata": {},
   "outputs": [
    {
     "name": "stdout",
     "output_type": "stream",
     "text": [
      "Before: default payment next month\n",
      "0    10000\n",
      "1      500\n",
      "Name: count, dtype: int64\n",
      "After: default payment next month\n",
      "0    10000\n",
      "1    10000\n",
      "Name: count, dtype: int64\n",
      "----------------------------------------------------------------------------------------------------\n",
      "SMOTE method:  SMOTE\n",
      "random forest roc score on test:  0.7576350000000001\n",
      "random forest f1 score on test:  0.22357723577235772\n",
      "====================================================================================================\n",
      "Before: default payment next month\n",
      "0    10000\n",
      "1      500\n",
      "Name: count, dtype: int64\n",
      "After: default payment next month\n",
      "0    10000\n",
      "1    10000\n",
      "Name: count, dtype: int64\n",
      "----------------------------------------------------------------------------------------------------\n",
      "SMOTE method:  BorderlineSMOTE\n",
      "random forest roc score on test:  0.760355\n",
      "random forest f1 score on test:  0.25\n",
      "====================================================================================================\n",
      "Before: default payment next month\n",
      "0    10000\n",
      "1      500\n",
      "Name: count, dtype: int64\n",
      "After: default payment next month\n",
      "0    10000\n",
      "1     6173\n",
      "Name: count, dtype: int64\n",
      "----------------------------------------------------------------------------------------------------\n",
      "SMOTE method:  SVMSMOTE\n",
      "random forest roc score on test:  0.76977\n",
      "random forest f1 score on test:  0.24074074074074076\n",
      "====================================================================================================\n",
      "Before: default payment next month\n",
      "0    10000\n",
      "1      500\n",
      "Name: count, dtype: int64\n",
      "After: default payment next month\n",
      "0    10000\n",
      "1    10000\n",
      "Name: count, dtype: int64\n",
      "----------------------------------------------------------------------------------------------------\n",
      "SMOTE method:  SMOTENC\n",
      "random forest roc score on test:  0.7490249999999999\n",
      "random forest f1 score on test:  0.2368421052631579\n",
      "====================================================================================================\n",
      "Before: default payment next month\n",
      "0    10000\n",
      "1      500\n",
      "Name: count, dtype: int64\n",
      "After: default payment next month\n",
      "1    10011\n",
      "0    10000\n",
      "Name: count, dtype: int64\n",
      "----------------------------------------------------------------------------------------------------\n",
      "SMOTE method:  KMeansSMOTE\n",
      "random forest roc score on test:  0.7773550000000001\n",
      "random forest f1 score on test:  0.08588957055214724\n",
      "====================================================================================================\n",
      "Before: default payment next month\n",
      "0    10000\n",
      "1      500\n",
      "Name: count, dtype: int64\n",
      "After: default payment next month\n",
      "0    10000\n",
      "1     9840\n",
      "Name: count, dtype: int64\n",
      "----------------------------------------------------------------------------------------------------\n",
      "SMOTE method:  ADASYN\n",
      "random forest roc score on test:  0.755035\n",
      "random forest f1 score on test:  0.22222222222222224\n",
      "====================================================================================================\n"
     ]
    }
   ],
   "source": [
    "result_dict = {}\n",
    "\n",
    "categorical_feature_indices = [2, 10]\n",
    "for i, sampler in enumerate((SMOTE(sampling_strategy = 1, random_state=0),\n",
    "                BorderlineSMOTE(sampling_strategy = 1, random_state=0, kind='borderline-1'),\n",
    "                SVMSMOTE(sampling_strategy = 1, random_state=0),\n",
    "                SMOTENC(categorical_features=categorical_feature_indices, sampling_strategy=1, random_state=0),\n",
    "                KMeansSMOTE(sampling_strategy=1, random_state=0, k_neighbors=10,\n",
    "                            kmeans_estimator=clf, cluster_balance_threshold=0.05),\n",
    "                ADASYN(sampling_strategy = 1, random_state=0))):\n",
    "\n",
    "    X, y =  sampler.fit_resample(data_train[model_features], data_train['default payment next month'])\n",
    "    print(f\"Before: {data_train['default payment next month'].value_counts()}\")\n",
    "    print(f\"After: {y.value_counts()}\")\n",
    "  \n",
    "    pipe_line = make_pipeline(sampler, rf_clf)\n",
    "    pipe_line.fit(data_train[model_features], data_train['default payment next month'])\n",
    "    rf_predictions = pipe_line.predict_proba(data_test[model_features])\n",
    "    rf_pred_label = pipe_line.predict(data_test[model_features]) \n",
    "    rf_roc_score = roc_auc_score(data_test['default payment next month'], rf_predictions[:,1])\n",
    "    rf_f1_score = f1_score(data_test['default payment next month'], rf_pred_label)\n",
    "    result_dict[smotes[i]] = [round(rf_roc_score, 2), round(rf_f1_score, 2)]\n",
    "    print('-'*100)\n",
    "    print('SMOTE method: ', smotes[i])\n",
    "    print('random forest roc score on test: ', rf_roc_score)\n",
    "    print('random forest f1 score on test: ', rf_f1_score)\n",
    "    print('='*100)\n"
   ]
  },
  {
   "cell_type": "code",
   "execution_count": 138,
   "metadata": {},
   "outputs": [
    {
     "data": {
      "image/png": "[encoded data removed]",
      "text/plain": [
       "<Figure size 1000x500 with 1 Axes>"
      ]
     },
     "metadata": {},
     "output_type": "display_data"
    }
   ],
   "source": [
    "dfplot = pd.DataFrame(result_dict).T.reset_index()\n",
    "dfplot.columns = ['case', 'ROC score', 'F1 score']\n",
    "dfplot = pd.melt(dfplot, id_vars= 'case', value_vars= ['ROC score', 'F1 score'])\n",
    "\n",
    "# Plot:\n",
    "plt.figure(figsize=(10, 5))\n",
    "ax = sns.barplot(data = dfplot, x = 'case', y = 'value', hue = 'variable')\n",
    "plt.title('Random Forest Classifier - ROC score and F1 score')\n",
    "for i in range(dfplot.variable.nunique()):\n",
    "    plt.bar_label(ax.containers[i])\n",
    "plt.show()"
   ]
  },
  {
   "cell_type": "markdown",
   "metadata": {},
   "source": [
    "<h3>Gradient Bossting</h3>"
   ]
  },
  {
   "cell_type": "code",
   "execution_count": 140,
   "metadata": {},
   "outputs": [],
   "source": [
    "from sklearn.tree import DecisionTreeClassifier"
   ]
  },
  {
   "cell_type": "code",
   "execution_count": 141,
   "metadata": {},
   "outputs": [
    {
     "name": "stdout",
     "output_type": "stream",
     "text": [
      "Before: default payment next month\n",
      "0    10000\n",
      "1      500\n",
      "Name: count, dtype: int64\n",
      "After: default payment next month\n",
      "0    10000\n",
      "1    10000\n",
      "Name: count, dtype: int64\n",
      "----------------------------------------------------------------------------------------------------\n",
      "SMOTE method:  SMOTE\n",
      "Decision Tree roc score on test:  0.5307499999999999\n",
      "Decision Tree f1 score on test:  0.10140845070422534\n",
      "====================================================================================================\n",
      "Before: default payment next month\n",
      "0    10000\n",
      "1      500\n",
      "Name: count, dtype: int64\n",
      "After: default payment next month\n",
      "0    10000\n",
      "1    10000\n",
      "Name: count, dtype: int64\n",
      "----------------------------------------------------------------------------------------------------\n",
      "SMOTE method:  BorderlineSMOTE\n",
      "Decision Tree roc score on test:  0.534\n",
      "Decision Tree f1 score on test:  0.10666666666666667\n",
      "====================================================================================================\n",
      "Before: default payment next month\n",
      "0    10000\n",
      "1      500\n",
      "Name: count, dtype: int64\n",
      "After: default payment next month\n",
      "0    10000\n",
      "1     6173\n",
      "Name: count, dtype: int64\n",
      "----------------------------------------------------------------------------------------------------\n",
      "SMOTE method:  SVMSMOTE\n",
      "Decision Tree roc score on test:  0.53625\n",
      "Decision Tree f1 score on test:  0.10996563573883163\n",
      "====================================================================================================\n",
      "Before: default payment next month\n",
      "0    10000\n",
      "1      500\n",
      "Name: count, dtype: int64\n",
      "After: default payment next month\n",
      "0    10000\n",
      "1    10000\n",
      "Name: count, dtype: int64\n",
      "----------------------------------------------------------------------------------------------------\n",
      "SMOTE method:  SMOTENC\n",
      "Decision Tree roc score on test:  0.5257499999999999\n",
      "Decision Tree f1 score on test:  0.09595959595959595\n",
      "====================================================================================================\n",
      "Before: default payment next month\n",
      "0    10000\n",
      "1      500\n",
      "Name: count, dtype: int64\n",
      "After: default payment next month\n",
      "1    10011\n",
      "0    10000\n",
      "Name: count, dtype: int64\n",
      "----------------------------------------------------------------------------------------------------\n",
      "SMOTE method:  KMeansSMOTE\n",
      "Decision Tree roc score on test:  0.5559999999999999\n",
      "Decision Tree f1 score on test:  0.14592274678111591\n",
      "====================================================================================================\n",
      "Before: default payment next month\n",
      "0    10000\n",
      "1      500\n",
      "Name: count, dtype: int64\n",
      "After: default payment next month\n",
      "0    10000\n",
      "1     9840\n",
      "Name: count, dtype: int64\n",
      "----------------------------------------------------------------------------------------------------\n",
      "SMOTE method:  ADASYN\n",
      "Decision Tree roc score on test:  0.53475\n",
      "Decision Tree f1 score on test:  0.10619469026548671\n",
      "====================================================================================================\n"
     ]
    }
   ],
   "source": [
    "result_dict = {}\n",
    "\n",
    "categorical_feature_indices = [2, 10]\n",
    "for i, sampler in enumerate((SMOTE(sampling_strategy=1, random_state=0),\n",
    "                              BorderlineSMOTE(sampling_strategy=1, random_state=0, kind='borderline-1'),\n",
    "                              SVMSMOTE(sampling_strategy=1, random_state=0),\n",
    "                              SMOTENC(categorical_features=categorical_feature_indices, sampling_strategy=1, random_state=0),\n",
    "                              KMeansSMOTE(sampling_strategy=1, random_state=0, k_neighbors=10,\n",
    "                                          kmeans_estimator=clf, cluster_balance_threshold=0.05),\n",
    "                              ADASYN(sampling_strategy=1, random_state=0))):\n",
    "\n",
    "    X, y = sampler.fit_resample(data_train[model_features], data_train['default payment next month'])\n",
    "    print(f\"Before: {data_train['default payment next month'].value_counts()}\")\n",
    "    print(f\"After: {y.value_counts()}\")\n",
    "\n",
    "    pipe_line = make_pipeline(sampler, DecisionTreeClassifier())\n",
    "    pipe_line.fit(data_train[model_features], data_train['default payment next month'])\n",
    "    dt_predictions = pipe_line.predict_proba(data_test[model_features])\n",
    "    dt_pred_label = pipe_line.predict(data_test[model_features])\n",
    "    dt_roc_score = roc_auc_score(data_test['default payment next month'], dt_predictions[:, 1])\n",
    "    dt_f1_score = f1_score(data_test['default payment next month'], dt_pred_label)\n",
    "    result_dict[smotes[i]] = [round(dt_roc_score, 2), round(dt_f1_score, 2)]\n",
    "    print('-' * 100)\n",
    "    print('SMOTE method: ', smotes[i])\n",
    "    print('Decision Tree roc score on test: ', dt_roc_score)\n",
    "    print('Decision Tree f1 score on test: ', dt_f1_score)\n",
    "    print('=' * 100)"
   ]
  },
  {
   "cell_type": "code",
   "execution_count": 142,
   "metadata": {},
   "outputs": [
    {
     "data": {
      "image/png": "[encoded data removed]",
      "text/plain": [
       "<Figure size 1000x500 with 1 Axes>"
      ]
     },
     "metadata": {},
     "output_type": "display_data"
    }
   ],
   "source": [
    "dfplot = pd.DataFrame(result_dict).T.reset_index()\n",
    "dfplot.columns = ['case', 'ROC score', 'F1 score']\n",
    "dfplot = pd.melt(dfplot, id_vars= 'case', value_vars= ['ROC score', 'F1 score'])\n",
    "\n",
    "# Plot:\n",
    "plt.figure(figsize=(10, 5))\n",
    "ax = sns.barplot(data = dfplot, x = 'case', y = 'value', hue = 'variable')\n",
    "plt.title('Random Forest Classifier - ROC score and F1 score')\n",
    "for i in range(dfplot.variable.nunique()):\n",
    "    plt.bar_label(ax.containers[i])\n",
    "plt.show()"
   ]
  },
  {
   "cell_type": "markdown",
   "metadata": {},
   "source": [
    "<h3>Logistic Regression</h3>"
   ]
  },
  {
   "cell_type": "code",
   "execution_count": 143,
   "metadata": {},
   "outputs": [],
   "source": [
    "from sklearn.linear_model import LogisticRegression"
   ]
  },
  {
   "cell_type": "code",
   "execution_count": 144,
   "metadata": {},
   "outputs": [
    {
     "name": "stdout",
     "output_type": "stream",
     "text": [
      "Before: default payment next month\n",
      "0    10000\n",
      "1      500\n",
      "Name: count, dtype: int64\n",
      "After: default payment next month\n",
      "0    10000\n",
      "1    10000\n",
      "Name: count, dtype: int64\n",
      "----------------------------------------------------------------------------------------------------\n",
      "SMOTE method:  SMOTE\n",
      "Logistic Regression roc score on test:  0.64964\n",
      "Logistic Regression f1 score on test:  0.11635220125786164\n",
      "====================================================================================================\n",
      "Before: default payment next month\n",
      "0    10000\n",
      "1      500\n",
      "Name: count, dtype: int64\n",
      "After: default payment next month\n",
      "0    10000\n",
      "1    10000\n",
      "Name: count, dtype: int64\n",
      "----------------------------------------------------------------------------------------------------\n",
      "SMOTE method:  BorderlineSMOTE\n",
      "Logistic Regression roc score on test:  0.66289\n",
      "Logistic Regression f1 score on test:  0.11969111969111969\n",
      "====================================================================================================\n",
      "Before: default payment next month\n",
      "0    10000\n",
      "1      500\n",
      "Name: count, dtype: int64\n",
      "After: default payment next month\n",
      "0    10000\n",
      "1     6173\n",
      "Name: count, dtype: int64\n",
      "----------------------------------------------------------------------------------------------------\n",
      "SMOTE method:  SVMSMOTE\n",
      "Logistic Regression roc score on test:  0.70639\n",
      "Logistic Regression f1 score on test:  0.13756613756613756\n",
      "====================================================================================================\n",
      "Before: default payment next month\n",
      "0    10000\n",
      "1      500\n",
      "Name: count, dtype: int64\n",
      "After: default payment next month\n",
      "0    10000\n",
      "1    10000\n",
      "Name: count, dtype: int64\n",
      "----------------------------------------------------------------------------------------------------\n",
      "SMOTE method:  SMOTENC\n",
      "Logistic Regression roc score on test:  0.64639\n",
      "Logistic Regression f1 score on test:  0.1143740340030912\n",
      "====================================================================================================\n",
      "Before: default payment next month\n",
      "0    10000\n",
      "1      500\n",
      "Name: count, dtype: int64\n",
      "After: default payment next month\n",
      "1    10011\n",
      "0    10000\n",
      "Name: count, dtype: int64\n",
      "----------------------------------------------------------------------------------------------------\n",
      "SMOTE method:  KMeansSMOTE\n",
      "Logistic Regression roc score on test:  0.7208249999999999\n",
      "Logistic Regression f1 score on test:  0.19148936170212763\n",
      "====================================================================================================\n",
      "Before: default payment next month\n",
      "0    10000\n",
      "1      500\n",
      "Name: count, dtype: int64\n",
      "After: default payment next month\n",
      "0    10000\n",
      "1     9840\n",
      "Name: count, dtype: int64\n",
      "----------------------------------------------------------------------------------------------------\n",
      "SMOTE method:  ADASYN\n",
      "Logistic Regression roc score on test:  0.64748\n",
      "Logistic Regression f1 score on test:  0.11267605633802816\n",
      "====================================================================================================\n"
     ]
    }
   ],
   "source": [
    "result_dict = {}\n",
    "\n",
    "categorical_feature_indices = [2, 10]\n",
    "for i, sampler in enumerate((SMOTE(sampling_strategy=1, random_state=0),\n",
    "                              BorderlineSMOTE(sampling_strategy=1, random_state=0, kind='borderline-1'),\n",
    "                              SVMSMOTE(sampling_strategy=1, random_state=0),\n",
    "                              SMOTENC(categorical_features=categorical_feature_indices, sampling_strategy=1, random_state=0),\n",
    "                              KMeansSMOTE(sampling_strategy=1, random_state=0, k_neighbors=10,\n",
    "                                          kmeans_estimator=clf, cluster_balance_threshold=0.05),\n",
    "                              ADASYN(sampling_strategy=1, random_state=0))):\n",
    "\n",
    "    X, y = sampler.fit_resample(data_train[model_features], data_train['default payment next month'])\n",
    "    print(f\"Before: {data_train['default payment next month'].value_counts()}\")\n",
    "    print(f\"After: {y.value_counts()}\")\n",
    "\n",
    "    pipe_line = make_pipeline(sampler, LogisticRegression())\n",
    "    pipe_line.fit(data_train[model_features], data_train['default payment next month'])\n",
    "    lr_predictions = pipe_line.predict_proba(data_test[model_features])\n",
    "    lr_pred_label = pipe_line.predict(data_test[model_features])\n",
    "    lr_roc_score = roc_auc_score(data_test['default payment next month'], lr_predictions[:, 1])\n",
    "    lr_f1_score = f1_score(data_test['default payment next month'], lr_pred_label)\n",
    "    result_dict[smotes[i]] = [round(lr_roc_score, 2), round(lr_f1_score, 2)]\n",
    "    print('-' * 100)\n",
    "    print('SMOTE method: ', smotes[i])\n",
    "    print('Logistic Regression roc score on test: ', lr_roc_score)\n",
    "    print('Logistic Regression f1 score on test: ', lr_f1_score)\n",
    "    print('=' * 100)"
   ]
  },
  {
   "cell_type": "code",
   "execution_count": 145,
   "metadata": {},
   "outputs": [
    {
     "data": {
      "image/png": "[encoded data removed]",
      "text/plain": [
       "<Figure size 1000x500 with 1 Axes>"
      ]
     },
     "metadata": {},
     "output_type": "display_data"
    }
   ],
   "source": [
    "dfplot = pd.DataFrame(result_dict).T.reset_index()\n",
    "dfplot.columns = ['case', 'ROC score', 'F1 score']\n",
    "dfplot = pd.melt(dfplot, id_vars= 'case', value_vars= ['ROC score', 'F1 score'])\n",
    "\n",
    "# Plot:\n",
    "plt.figure(figsize=(10, 5))\n",
    "ax = sns.barplot(data = dfplot, x = 'case', y = 'value', hue = 'variable')\n",
    "plt.title('Random Forest Classifier - ROC score and F1 score')\n",
    "for i in range(dfplot.variable.nunique()):\n",
    "    plt.bar_label(ax.containers[i])\n",
    "plt.show()"
   ]
  },
  {
   "cell_type": "code",
   "execution_count": null,
   "metadata": {},
   "outputs": [],
   "source": []
  }
 ],
 "metadata": {
  "kernelspec": {
   "display_name": "base",
   "language": "python",
   "name": "python3"
  },
  "language_info": {
   "codemirror_mode": {
    "name": "ipython",
    "version": 3
   },
   "file_extension": ".py",
   "mimetype": "text/x-python",
   "name": "python",
   "nbconvert_exporter": "python",
   "pygments_lexer": "ipython3",
   "version": "3.11.5"
  }
 },
 "nbformat": 4,
 "nbformat_minor": 2
}
