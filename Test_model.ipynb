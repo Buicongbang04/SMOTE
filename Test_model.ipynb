{
 "cells": [
  {
   "cell_type": "code",
   "execution_count": 73,
   "metadata": {},
   "outputs": [],
   "source": [
    "# !pip install xlrd"
   ]
  },
  {
   "cell_type": "code",
   "execution_count": 2,
   "metadata": {},
   "outputs": [],
   "source": [
    "import warnings\n",
    "warnings.filterwarnings('ignore')"
   ]
  },
  {
   "cell_type": "code",
   "execution_count": 3,
   "metadata": {},
   "outputs": [
    {
     "name": "stdout",
     "output_type": "stream",
     "text": [
      "<class 'pandas.core.frame.DataFrame'>\n",
      "Index: 30000 entries, 1 to 30000\n",
      "Data columns (total 24 columns):\n",
      " #   Column                      Non-Null Count  Dtype\n",
      "---  ------                      --------------  -----\n",
      " 0   LIMIT_BAL                   30000 non-null  int64\n",
      " 1   SEX                         30000 non-null  int64\n",
      " 2   EDUCATION                   30000 non-null  int64\n",
      " 3   MARRIAGE                    30000 non-null  int64\n",
      " 4   AGE                         30000 non-null  int64\n",
      " 5   PAY_0                       30000 non-null  int64\n",
      " 6   PAY_2                       30000 non-null  int64\n",
      " 7   PAY_3                       30000 non-null  int64\n",
      " 8   PAY_4                       30000 non-null  int64\n",
      " 9   PAY_5                       30000 non-null  int64\n",
      " 10  PAY_6                       30000 non-null  int64\n",
      " 11  BILL_AMT1                   30000 non-null  int64\n",
      " 12  BILL_AMT2                   30000 non-null  int64\n",
      " 13  BILL_AMT3                   30000 non-null  int64\n",
      " 14  BILL_AMT4                   30000 non-null  int64\n",
      " 15  BILL_AMT5                   30000 non-null  int64\n",
      " 16  BILL_AMT6                   30000 non-null  int64\n",
      " 17  PAY_AMT1                    30000 non-null  int64\n",
      " 18  PAY_AMT2                    30000 non-null  int64\n",
      " 19  PAY_AMT3                    30000 non-null  int64\n",
      " 20  PAY_AMT4                    30000 non-null  int64\n",
      " 21  PAY_AMT5                    30000 non-null  int64\n",
      " 22  PAY_AMT6                    30000 non-null  int64\n",
      " 23  default payment next month  30000 non-null  int64\n",
      "dtypes: int64(24)\n",
      "memory usage: 5.7 MB\n"
     ]
    }
   ],
   "source": [
    "import os\n",
    "import pandas as pd\n",
    "\n",
    "pd.set_option('display.max_columns', None)\n",
    "pd.set_option('display.max_rows', None)\n",
    "\n",
    "dataset = pd.read_excel('credit_card.xls', header=1, index_col=0)\n",
    "dataset.info()"
   ]
  },
  {
   "cell_type": "code",
   "execution_count": 4,
   "metadata": {},
   "outputs": [
    {
     "data": {
      "text/html": [
       "<div>\n",
       "<style scoped>\n",
       "    .dataframe tbody tr th:only-of-type {\n",
       "        vertical-align: middle;\n",
       "    }\n",
       "\n",
       "    .dataframe tbody tr th {\n",
       "        vertical-align: top;\n",
       "    }\n",
       "\n",
       "    .dataframe thead th {\n",
       "        text-align: right;\n",
       "    }\n",
       "</style>\n",
       "<table border=\"1\" class=\"dataframe\">\n",
       "  <thead>\n",
       "    <tr style=\"text-align: right;\">\n",
       "      <th></th>\n",
       "      <th>LIMIT_BAL</th>\n",
       "      <th>SEX</th>\n",
       "      <th>EDUCATION</th>\n",
       "      <th>MARRIAGE</th>\n",
       "      <th>AGE</th>\n",
       "      <th>PAY_0</th>\n",
       "      <th>PAY_2</th>\n",
       "      <th>PAY_3</th>\n",
       "      <th>PAY_4</th>\n",
       "      <th>PAY_5</th>\n",
       "      <th>PAY_6</th>\n",
       "      <th>BILL_AMT1</th>\n",
       "      <th>BILL_AMT2</th>\n",
       "      <th>BILL_AMT3</th>\n",
       "      <th>BILL_AMT4</th>\n",
       "      <th>BILL_AMT5</th>\n",
       "      <th>BILL_AMT6</th>\n",
       "      <th>PAY_AMT1</th>\n",
       "      <th>PAY_AMT2</th>\n",
       "      <th>PAY_AMT3</th>\n",
       "      <th>PAY_AMT4</th>\n",
       "      <th>PAY_AMT5</th>\n",
       "      <th>PAY_AMT6</th>\n",
       "      <th>default payment next month</th>\n",
       "    </tr>\n",
       "    <tr>\n",
       "      <th>ID</th>\n",
       "      <th></th>\n",
       "      <th></th>\n",
       "      <th></th>\n",
       "      <th></th>\n",
       "      <th></th>\n",
       "      <th></th>\n",
       "      <th></th>\n",
       "      <th></th>\n",
       "      <th></th>\n",
       "      <th></th>\n",
       "      <th></th>\n",
       "      <th></th>\n",
       "      <th></th>\n",
       "      <th></th>\n",
       "      <th></th>\n",
       "      <th></th>\n",
       "      <th></th>\n",
       "      <th></th>\n",
       "      <th></th>\n",
       "      <th></th>\n",
       "      <th></th>\n",
       "      <th></th>\n",
       "      <th></th>\n",
       "      <th></th>\n",
       "    </tr>\n",
       "  </thead>\n",
       "  <tbody>\n",
       "    <tr>\n",
       "      <th>1</th>\n",
       "      <td>20000</td>\n",
       "      <td>2</td>\n",
       "      <td>2</td>\n",
       "      <td>1</td>\n",
       "      <td>24</td>\n",
       "      <td>2</td>\n",
       "      <td>2</td>\n",
       "      <td>-1</td>\n",
       "      <td>-1</td>\n",
       "      <td>-2</td>\n",
       "      <td>-2</td>\n",
       "      <td>3913</td>\n",
       "      <td>3102</td>\n",
       "      <td>689</td>\n",
       "      <td>0</td>\n",
       "      <td>0</td>\n",
       "      <td>0</td>\n",
       "      <td>0</td>\n",
       "      <td>689</td>\n",
       "      <td>0</td>\n",
       "      <td>0</td>\n",
       "      <td>0</td>\n",
       "      <td>0</td>\n",
       "      <td>1</td>\n",
       "    </tr>\n",
       "    <tr>\n",
       "      <th>2</th>\n",
       "      <td>120000</td>\n",
       "      <td>2</td>\n",
       "      <td>2</td>\n",
       "      <td>2</td>\n",
       "      <td>26</td>\n",
       "      <td>-1</td>\n",
       "      <td>2</td>\n",
       "      <td>0</td>\n",
       "      <td>0</td>\n",
       "      <td>0</td>\n",
       "      <td>2</td>\n",
       "      <td>2682</td>\n",
       "      <td>1725</td>\n",
       "      <td>2682</td>\n",
       "      <td>3272</td>\n",
       "      <td>3455</td>\n",
       "      <td>3261</td>\n",
       "      <td>0</td>\n",
       "      <td>1000</td>\n",
       "      <td>1000</td>\n",
       "      <td>1000</td>\n",
       "      <td>0</td>\n",
       "      <td>2000</td>\n",
       "      <td>1</td>\n",
       "    </tr>\n",
       "    <tr>\n",
       "      <th>3</th>\n",
       "      <td>90000</td>\n",
       "      <td>2</td>\n",
       "      <td>2</td>\n",
       "      <td>2</td>\n",
       "      <td>34</td>\n",
       "      <td>0</td>\n",
       "      <td>0</td>\n",
       "      <td>0</td>\n",
       "      <td>0</td>\n",
       "      <td>0</td>\n",
       "      <td>0</td>\n",
       "      <td>29239</td>\n",
       "      <td>14027</td>\n",
       "      <td>13559</td>\n",
       "      <td>14331</td>\n",
       "      <td>14948</td>\n",
       "      <td>15549</td>\n",
       "      <td>1518</td>\n",
       "      <td>1500</td>\n",
       "      <td>1000</td>\n",
       "      <td>1000</td>\n",
       "      <td>1000</td>\n",
       "      <td>5000</td>\n",
       "      <td>0</td>\n",
       "    </tr>\n",
       "    <tr>\n",
       "      <th>4</th>\n",
       "      <td>50000</td>\n",
       "      <td>2</td>\n",
       "      <td>2</td>\n",
       "      <td>1</td>\n",
       "      <td>37</td>\n",
       "      <td>0</td>\n",
       "      <td>0</td>\n",
       "      <td>0</td>\n",
       "      <td>0</td>\n",
       "      <td>0</td>\n",
       "      <td>0</td>\n",
       "      <td>46990</td>\n",
       "      <td>48233</td>\n",
       "      <td>49291</td>\n",
       "      <td>28314</td>\n",
       "      <td>28959</td>\n",
       "      <td>29547</td>\n",
       "      <td>2000</td>\n",
       "      <td>2019</td>\n",
       "      <td>1200</td>\n",
       "      <td>1100</td>\n",
       "      <td>1069</td>\n",
       "      <td>1000</td>\n",
       "      <td>0</td>\n",
       "    </tr>\n",
       "    <tr>\n",
       "      <th>5</th>\n",
       "      <td>50000</td>\n",
       "      <td>1</td>\n",
       "      <td>2</td>\n",
       "      <td>1</td>\n",
       "      <td>57</td>\n",
       "      <td>-1</td>\n",
       "      <td>0</td>\n",
       "      <td>-1</td>\n",
       "      <td>0</td>\n",
       "      <td>0</td>\n",
       "      <td>0</td>\n",
       "      <td>8617</td>\n",
       "      <td>5670</td>\n",
       "      <td>35835</td>\n",
       "      <td>20940</td>\n",
       "      <td>19146</td>\n",
       "      <td>19131</td>\n",
       "      <td>2000</td>\n",
       "      <td>36681</td>\n",
       "      <td>10000</td>\n",
       "      <td>9000</td>\n",
       "      <td>689</td>\n",
       "      <td>679</td>\n",
       "      <td>0</td>\n",
       "    </tr>\n",
       "  </tbody>\n",
       "</table>\n",
       "</div>"
      ],
      "text/plain": [
       "    LIMIT_BAL  SEX  EDUCATION  MARRIAGE  AGE  PAY_0  PAY_2  PAY_3  PAY_4  \\\n",
       "ID                                                                         \n",
       "1       20000    2          2         1   24      2      2     -1     -1   \n",
       "2      120000    2          2         2   26     -1      2      0      0   \n",
       "3       90000    2          2         2   34      0      0      0      0   \n",
       "4       50000    2          2         1   37      0      0      0      0   \n",
       "5       50000    1          2         1   57     -1      0     -1      0   \n",
       "\n",
       "    PAY_5  PAY_6  BILL_AMT1  BILL_AMT2  BILL_AMT3  BILL_AMT4  BILL_AMT5  \\\n",
       "ID                                                                        \n",
       "1      -2     -2       3913       3102        689          0          0   \n",
       "2       0      2       2682       1725       2682       3272       3455   \n",
       "3       0      0      29239      14027      13559      14331      14948   \n",
       "4       0      0      46990      48233      49291      28314      28959   \n",
       "5       0      0       8617       5670      35835      20940      19146   \n",
       "\n",
       "    BILL_AMT6  PAY_AMT1  PAY_AMT2  PAY_AMT3  PAY_AMT4  PAY_AMT5  PAY_AMT6  \\\n",
       "ID                                                                          \n",
       "1           0         0       689         0         0         0         0   \n",
       "2        3261         0      1000      1000      1000         0      2000   \n",
       "3       15549      1518      1500      1000      1000      1000      5000   \n",
       "4       29547      2000      2019      1200      1100      1069      1000   \n",
       "5       19131      2000     36681     10000      9000       689       679   \n",
       "\n",
       "    default payment next month  \n",
       "ID                              \n",
       "1                            1  \n",
       "2                            1  \n",
       "3                            0  \n",
       "4                            0  \n",
       "5                            0  "
      ]
     },
     "execution_count": 4,
     "metadata": {},
     "output_type": "execute_result"
    }
   ],
   "source": [
    "dataset.head()"
   ]
  },
  {
   "cell_type": "code",
   "execution_count": 5,
   "metadata": {},
   "outputs": [
    {
     "data": {
      "text/plain": [
       "LIMIT_BAL                     0\n",
       "SEX                           0\n",
       "EDUCATION                     0\n",
       "MARRIAGE                      0\n",
       "AGE                           0\n",
       "PAY_0                         0\n",
       "PAY_2                         0\n",
       "PAY_3                         0\n",
       "PAY_4                         0\n",
       "PAY_5                         0\n",
       "PAY_6                         0\n",
       "BILL_AMT1                     0\n",
       "BILL_AMT2                     0\n",
       "BILL_AMT3                     0\n",
       "BILL_AMT4                     0\n",
       "BILL_AMT5                     0\n",
       "BILL_AMT6                     0\n",
       "PAY_AMT1                      0\n",
       "PAY_AMT2                      0\n",
       "PAY_AMT3                      0\n",
       "PAY_AMT4                      0\n",
       "PAY_AMT5                      0\n",
       "PAY_AMT6                      0\n",
       "default payment next month    0\n",
       "dtype: int64"
      ]
     },
     "execution_count": 5,
     "metadata": {},
     "output_type": "execute_result"
    }
   ],
   "source": [
    "dataset.isna().sum()"
   ]
  },
  {
   "cell_type": "code",
   "execution_count": 6,
   "metadata": {},
   "outputs": [],
   "source": [
    "import numpy as np"
   ]
  },
  {
   "cell_type": "code",
   "execution_count": 7,
   "metadata": {},
   "outputs": [],
   "source": [
    "model_features = list(set(dataset.columns).difference({\"ID\", \"default payment next month\"}))\n",
    "target = [\"default payment next month\"]\n",
    "X = dataset[model_features]\n",
    "y = dataset[target]"
   ]
  },
  {
   "cell_type": "code",
   "execution_count": 8,
   "metadata": {},
   "outputs": [],
   "source": [
    "id_pos = np.where(y.values.reshape(-1) == 1)[0]\n",
    "id_neg = np.where(y.values.reshape(-1) == 0)[0]"
   ]
  },
  {
   "cell_type": "code",
   "execution_count": 9,
   "metadata": {},
   "outputs": [],
   "source": [
    "np.random.shuffle(id_pos)\n",
    "np.random.shuffle(id_neg)"
   ]
  },
  {
   "cell_type": "code",
   "execution_count": 10,
   "metadata": {},
   "outputs": [],
   "source": [
    "# Tập train:\n",
    "id_train_neg = id_neg[:10000] \n",
    "id_train_pos = id_pos[:500]\n",
    "id_train = np.concatenate((id_train_neg, id_train_pos), axis = 0)"
   ]
  },
  {
   "cell_type": "code",
   "execution_count": 11,
   "metadata": {},
   "outputs": [],
   "source": [
    "# Tập val:\n",
    "id_val_neg = id_neg[10000:12000]\n",
    "id_val_pos = id_pos[500:600]\n",
    "id_val = np.concatenate((id_val_neg, id_val_pos), axis = 0)"
   ]
  },
  {
   "cell_type": "code",
   "execution_count": 12,
   "metadata": {},
   "outputs": [],
   "source": [
    "# Tập test:\n",
    "id_test_neg = id_neg[14000:16000]\n",
    "id_test_pos = id_pos[700:800]\n",
    "id_test = np.concatenate((id_test_neg, id_test_pos), axis = 0)"
   ]
  },
  {
   "cell_type": "code",
   "execution_count": 13,
   "metadata": {},
   "outputs": [],
   "source": [
    "# khởi tạo dataset\n",
    "data_train = dataset.iloc[id_train]\n",
    "data_val = dataset.iloc[id_val]\n",
    "data_test = dataset.iloc[id_test] "
   ]
  },
  {
   "cell_type": "code",
   "execution_count": 14,
   "metadata": {},
   "outputs": [
    {
     "name": "stdout",
     "output_type": "stream",
     "text": [
      "data train shape:  (10500, 24)\n",
      "data val shape:  (2100, 24)\n",
      "data test shape:  (2100, 24)\n"
     ]
    }
   ],
   "source": [
    "print('data train shape: ', data_train.shape)\n",
    "print('data val shape: ', data_val.shape)\n",
    "print('data test shape: ', data_test.shape)"
   ]
  },
  {
   "cell_type": "markdown",
   "metadata": {},
   "source": [
    "<h1>Xây dựng model</h1>"
   ]
  },
  {
   "cell_type": "markdown",
   "metadata": {},
   "source": [
    "<h1>Over Sampling</h1>"
   ]
  },
  {
   "cell_type": "code",
   "execution_count": 15,
   "metadata": {},
   "outputs": [],
   "source": [
    "import matplotlib.pyplot as plt\n",
    "import seaborn as sns\n",
    "import numpy as np\n",
    "from sklearn.ensemble import RandomForestClassifier\n",
    "from sklearn.metrics import roc_auc_score, f1_score"
   ]
  },
  {
   "cell_type": "markdown",
   "metadata": {},
   "source": [
    "<h1>SMOTE And Adasyn</h1>"
   ]
  },
  {
   "cell_type": "code",
   "execution_count": 16,
   "metadata": {},
   "outputs": [],
   "source": [
    "from imblearn.pipeline import make_pipeline\n",
    "from imblearn.over_sampling import ADASYN\n",
    "from imblearn.over_sampling import (SMOTE, BorderlineSMOTE, SVMSMOTE, SMOTENC, KMeansSMOTE)\n",
    "from sklearn.cluster import MiniBatchKMeans as MiniKM\n",
    "\n",
    "clf = MiniKM(n_clusters=100, random_state=0)"
   ]
  },
  {
   "cell_type": "markdown",
   "metadata": {},
   "source": [
    "<h3>Random Forest</h3>"
   ]
  },
  {
   "cell_type": "code",
   "execution_count": 22,
   "metadata": {},
   "outputs": [],
   "source": [
    "smotes = {0 : 'SMOTE',\n",
    "          1 : 'BorderlineSMOTE',\n",
    "          2 : 'SVMSMOTE',\n",
    "          3 : 'SMOTENC',\n",
    "          4 : 'KMeansSMOTE',\n",
    "          5 : 'ADASYN'}"
   ]
  },
  {
   "cell_type": "code",
   "execution_count": 20,
   "metadata": {},
   "outputs": [],
   "source": [
    "result_dict = {}"
   ]
  },
  {
   "cell_type": "code",
   "execution_count": 29,
   "metadata": {},
   "outputs": [],
   "source": [
    "def train_model(model_name):\n",
    "  categorical_feature_indices = [2, 10]\n",
    "  for i, sampler in enumerate((SMOTE(sampling_strategy=1, random_state=0),\n",
    "                                BorderlineSMOTE(sampling_strategy=1, random_state=0, kind='borderline-1'),\n",
    "                                SVMSMOTE(sampling_strategy=1, random_state=0),\n",
    "                                SMOTENC(categorical_features=categorical_feature_indices, sampling_strategy=1, random_state=0),\n",
    "                                KMeansSMOTE(sampling_strategy=1, random_state=0, k_neighbors=10,\n",
    "                                            kmeans_estimator=clf, cluster_balance_threshold=0.05),\n",
    "                                ADASYN(sampling_strategy=1, random_state=0))):\n",
    "\n",
    "      X, y = sampler.fit_resample(data_train[model_features], data_train['default payment next month'])\n",
    "      print(f\"Before: {data_train['default payment next month'].value_counts()}\")\n",
    "      print(f\"After: {y.value_counts()}\")\n",
    "\n",
    "      pipe_line = make_pipeline(sampler, model_name)\n",
    "      pipe_line.fit(data_train[model_features], data_train['default payment next month'])\n",
    "      lr_predictions = pipe_line.predict_proba(data_test[model_features])\n",
    "      lr_pred_label = pipe_line.predict(data_test[model_features])\n",
    "      lr_roc_score = roc_auc_score(data_test['default payment next month'], lr_predictions[:, 1])\n",
    "      lr_f1_score = f1_score(data_test['default payment next month'], lr_pred_label)\n",
    "      result_dict[smotes[i]] = [round(lr_roc_score, 2), round(lr_f1_score, 2)]\n",
    "      print('-' * 100)\n",
    "      print('SMOTE method: ', smotes[i])\n",
    "      print('Logistic Regression roc score on test: ', lr_roc_score)\n",
    "      print('Logistic Regression f1 score on test: ', lr_f1_score)\n",
    "      print('=' * 100)"
   ]
  },
  {
   "cell_type": "code",
   "execution_count": 30,
   "metadata": {},
   "outputs": [],
   "source": [
    "def plot_result():\n",
    "  dfplot = pd.DataFrame(result_dict).T.reset_index()\n",
    "  dfplot.columns = ['case', 'ROC score', 'F1 score']\n",
    "  dfplot = pd.melt(dfplot, id_vars= 'case', value_vars= ['ROC score', 'F1 score'])\n",
    "\n",
    "  # Plot:\n",
    "  plt.figure(figsize=(10, 5))\n",
    "  ax = sns.barplot(data = dfplot, x = 'case', y = 'value', hue = 'variable')\n",
    "  plt.title('Random Forest Classifier - ROC score and F1 score')\n",
    "  for i in range(dfplot.variable.nunique()):\n",
    "      plt.bar_label(ax.containers[i])\n",
    "  plt.show()"
   ]
  },
  {
   "cell_type": "code",
   "execution_count": 31,
   "metadata": {},
   "outputs": [
    {
     "name": "stdout",
     "output_type": "stream",
     "text": [
      "Before: default payment next month\n",
      "0    10000\n",
      "1      500\n",
      "Name: count, dtype: int64\n",
      "After: default payment next month\n",
      "0    10000\n",
      "1    10000\n",
      "Name: count, dtype: int64\n",
      "----------------------------------------------------------------------------------------------------\n",
      "SMOTE method:  SMOTE\n",
      "Logistic Regression roc score on test:  0.6825225000000001\n",
      "Logistic Regression f1 score on test:  0.1787709497206704\n",
      "====================================================================================================\n",
      "Before: default payment next month\n",
      "0    10000\n",
      "1      500\n",
      "Name: count, dtype: int64\n",
      "After: default payment next month\n",
      "0    10000\n",
      "1    10000\n",
      "Name: count, dtype: int64\n",
      "----------------------------------------------------------------------------------------------------\n",
      "SMOTE method:  BorderlineSMOTE\n",
      "Logistic Regression roc score on test:  0.7090575000000001\n",
      "Logistic Regression f1 score on test:  0.14473684210526314\n",
      "====================================================================================================\n",
      "Before: default payment next month\n",
      "0    10000\n",
      "1      500\n",
      "Name: count, dtype: int64\n",
      "After: default payment next month\n",
      "0    10000\n",
      "1     6173\n",
      "Name: count, dtype: int64\n",
      "----------------------------------------------------------------------------------------------------\n",
      "SMOTE method:  SVMSMOTE\n",
      "Logistic Regression roc score on test:  0.7145724999999999\n",
      "Logistic Regression f1 score on test:  0.1276595744680851\n",
      "====================================================================================================\n",
      "Before: default payment next month\n",
      "0    10000\n",
      "1      500\n",
      "Name: count, dtype: int64\n",
      "After: default payment next month\n",
      "0    10000\n",
      "1    10000\n",
      "Name: count, dtype: int64\n",
      "----------------------------------------------------------------------------------------------------\n",
      "SMOTE method:  SMOTENC\n",
      "Logistic Regression roc score on test:  0.71666\n",
      "Logistic Regression f1 score on test:  0.18749999999999997\n",
      "====================================================================================================\n",
      "Before: default payment next month\n",
      "0    10000\n",
      "1      500\n",
      "Name: count, dtype: int64\n",
      "After: default payment next month\n",
      "1    10011\n",
      "0    10000\n",
      "Name: count, dtype: int64\n",
      "----------------------------------------------------------------------------------------------------\n",
      "SMOTE method:  KMeansSMOTE\n",
      "Logistic Regression roc score on test:  0.71734\n",
      "Logistic Regression f1 score on test:  0.01818181818181818\n",
      "====================================================================================================\n",
      "Before: default payment next month\n",
      "0    10000\n",
      "1      500\n",
      "Name: count, dtype: int64\n",
      "After: default payment next month\n",
      "1    10124\n",
      "0    10000\n",
      "Name: count, dtype: int64\n",
      "----------------------------------------------------------------------------------------------------\n",
      "SMOTE method:  ADASYN\n",
      "Logistic Regression roc score on test:  0.685895\n",
      "Logistic Regression f1 score on test:  0.1837837837837838\n",
      "====================================================================================================\n"
     ]
    }
   ],
   "source": [
    "train_model(RandomForestClassifier(n_estimators=100, random_state=42))"
   ]
  },
  {
   "cell_type": "code",
   "execution_count": 33,
   "metadata": {},
   "outputs": [
    {
     "data": {
      "image/png": "[encoded data removed]",
      "text/plain": [
       "<Figure size 1000x500 with 1 Axes>"
      ]
     },
     "metadata": {},
     "output_type": "display_data"
    }
   ],
   "source": [
    "plot_result()"
   ]
  },
  {
   "cell_type": "markdown",
   "metadata": {},
   "source": [
    "<h3>Decision Tree</h3>"
   ]
  },
  {
   "cell_type": "code",
   "execution_count": 27,
   "metadata": {},
   "outputs": [],
   "source": [
    "from sklearn.tree import DecisionTreeClassifier"
   ]
  },
  {
   "cell_type": "code",
   "execution_count": 34,
   "metadata": {},
   "outputs": [
    {
     "name": "stdout",
     "output_type": "stream",
     "text": [
      "Before: default payment next month\n",
      "0    10000\n",
      "1      500\n",
      "Name: count, dtype: int64\n",
      "After: default payment next month\n",
      "0    10000\n",
      "1    10000\n",
      "Name: count, dtype: int64\n",
      "----------------------------------------------------------------------------------------------------\n",
      "SMOTE method:  SMOTE\n",
      "Logistic Regression roc score on test:  0.5575\n",
      "Logistic Regression f1 score on test:  0.1303116147308782\n",
      "====================================================================================================\n",
      "Before: default payment next month\n",
      "0    10000\n",
      "1      500\n",
      "Name: count, dtype: int64\n",
      "After: default payment next month\n",
      "0    10000\n",
      "1    10000\n",
      "Name: count, dtype: int64\n",
      "----------------------------------------------------------------------------------------------------\n",
      "SMOTE method:  BorderlineSMOTE\n",
      "Logistic Regression roc score on test:  0.55575\n",
      "Logistic Regression f1 score on test:  0.13468013468013468\n",
      "====================================================================================================\n",
      "Before: default payment next month\n",
      "0    10000\n",
      "1      500\n",
      "Name: count, dtype: int64\n",
      "After: default payment next month\n",
      "0    10000\n",
      "1     6173\n",
      "Name: count, dtype: int64\n",
      "----------------------------------------------------------------------------------------------------\n",
      "SMOTE method:  SVMSMOTE\n",
      "Logistic Regression roc score on test:  0.6052500000000001\n",
      "Logistic Regression f1 score on test:  0.2013888888888889\n",
      "====================================================================================================\n",
      "Before: default payment next month\n",
      "0    10000\n",
      "1      500\n",
      "Name: count, dtype: int64\n",
      "After: default payment next month\n",
      "0    10000\n",
      "1    10000\n",
      "Name: count, dtype: int64\n",
      "----------------------------------------------------------------------------------------------------\n",
      "SMOTE method:  SMOTENC\n",
      "Logistic Regression roc score on test:  0.5345\n",
      "Logistic Regression f1 score on test:  0.10738255033557048\n",
      "====================================================================================================\n",
      "Before: default payment next month\n",
      "0    10000\n",
      "1      500\n",
      "Name: count, dtype: int64\n",
      "After: default payment next month\n",
      "1    10011\n",
      "0    10000\n",
      "Name: count, dtype: int64\n",
      "----------------------------------------------------------------------------------------------------\n",
      "SMOTE method:  KMeansSMOTE\n",
      "Logistic Regression roc score on test:  0.534\n",
      "Logistic Regression f1 score on test:  0.11111111111111112\n",
      "====================================================================================================\n",
      "Before: default payment next month\n",
      "0    10000\n",
      "1      500\n",
      "Name: count, dtype: int64\n",
      "After: default payment next month\n",
      "1    10124\n",
      "0    10000\n",
      "Name: count, dtype: int64\n",
      "----------------------------------------------------------------------------------------------------\n",
      "SMOTE method:  ADASYN\n",
      "Logistic Regression roc score on test:  0.53775\n",
      "Logistic Regression f1 score on test:  0.10919540229885058\n",
      "====================================================================================================\n"
     ]
    }
   ],
   "source": [
    "result_dict = {}\n",
    "train_model(DecisionTreeClassifier(random_state=42))"
   ]
  },
  {
   "cell_type": "code",
   "execution_count": 35,
   "metadata": {},
   "outputs": [
    {
     "data": {
      "image/png": "[encoded data removed]",
      "text/plain": [
       "<Figure size 1000x500 with 1 Axes>"
      ]
     },
     "metadata": {},
     "output_type": "display_data"
    }
   ],
   "source": [
    "plot_result()"
   ]
  },
  {
   "cell_type": "markdown",
   "metadata": {},
   "source": [
    "<h3>Logistic Regression</h3>"
   ]
  },
  {
   "cell_type": "code",
   "execution_count": 37,
   "metadata": {},
   "outputs": [],
   "source": [
    "from sklearn.linear_model import LogisticRegression"
   ]
  },
  {
   "cell_type": "code",
   "execution_count": 38,
   "metadata": {},
   "outputs": [
    {
     "name": "stdout",
     "output_type": "stream",
     "text": [
      "Before: default payment next month\n",
      "0    10000\n",
      "1      500\n",
      "Name: count, dtype: int64\n",
      "After: default payment next month\n",
      "0    10000\n",
      "1    10000\n",
      "Name: count, dtype: int64\n",
      "----------------------------------------------------------------------------------------------------\n",
      "SMOTE method:  SMOTE\n",
      "Logistic Regression roc score on test:  0.645215\n",
      "Logistic Regression f1 score on test:  0.11650485436893204\n",
      "====================================================================================================\n",
      "Before: default payment next month\n",
      "0    10000\n",
      "1      500\n",
      "Name: count, dtype: int64\n",
      "After: default payment next month\n",
      "0    10000\n",
      "1    10000\n",
      "Name: count, dtype: int64\n",
      "----------------------------------------------------------------------------------------------------\n",
      "SMOTE method:  BorderlineSMOTE\n",
      "Logistic Regression roc score on test:  0.64329\n",
      "Logistic Regression f1 score on test:  0.11428571428571428\n",
      "====================================================================================================\n",
      "Before: default payment next month\n",
      "0    10000\n",
      "1      500\n",
      "Name: count, dtype: int64\n",
      "After: default payment next month\n",
      "0    10000\n",
      "1     6173\n",
      "Name: count, dtype: int64\n",
      "----------------------------------------------------------------------------------------------------\n",
      "SMOTE method:  SVMSMOTE\n",
      "Logistic Regression roc score on test:  0.65519\n",
      "Logistic Regression f1 score on test:  0.0878048780487805\n",
      "====================================================================================================\n",
      "Before: default payment next month\n",
      "0    10000\n",
      "1      500\n",
      "Name: count, dtype: int64\n",
      "After: default payment next month\n",
      "0    10000\n",
      "1    10000\n",
      "Name: count, dtype: int64\n",
      "----------------------------------------------------------------------------------------------------\n",
      "SMOTE method:  SMOTENC\n",
      "Logistic Regression roc score on test:  0.64699\n",
      "Logistic Regression f1 score on test:  0.11068702290076335\n",
      "====================================================================================================\n",
      "Before: default payment next month\n",
      "0    10000\n",
      "1      500\n",
      "Name: count, dtype: int64\n",
      "After: default payment next month\n",
      "1    10011\n",
      "0    10000\n",
      "Name: count, dtype: int64\n",
      "----------------------------------------------------------------------------------------------------\n",
      "SMOTE method:  KMeansSMOTE\n",
      "Logistic Regression roc score on test:  0.660465\n",
      "Logistic Regression f1 score on test:  0.1303370786516854\n",
      "====================================================================================================\n",
      "Before: default payment next month\n",
      "0    10000\n",
      "1      500\n",
      "Name: count, dtype: int64\n",
      "After: default payment next month\n",
      "1    10124\n",
      "0    10000\n",
      "Name: count, dtype: int64\n",
      "----------------------------------------------------------------------------------------------------\n",
      "SMOTE method:  ADASYN\n",
      "Logistic Regression roc score on test:  0.6418300000000001\n",
      "Logistic Regression f1 score on test:  0.11029411764705882\n",
      "====================================================================================================\n"
     ]
    }
   ],
   "source": [
    "result_dict = {}\n",
    "train_model(LogisticRegression(random_state=42))"
   ]
  },
  {
   "cell_type": "code",
   "execution_count": 39,
   "metadata": {},
   "outputs": [
    {
     "data": {
      "image/png": "[encoded data removed]",
      "text/plain": [
       "<Figure size 1000x500 with 1 Axes>"
      ]
     },
     "metadata": {},
     "output_type": "display_data"
    }
   ],
   "source": [
    "plot_result()"
   ]
  }
 ],
 "metadata": {
  "kernelspec": {
   "display_name": "base",
   "language": "python",
   "name": "python3"
  },
  "language_info": {
   "codemirror_mode": {
    "name": "ipython",
    "version": 3
   },
   "file_extension": ".py",
   "mimetype": "text/x-python",
   "name": "python",
   "nbconvert_exporter": "python",
   "pygments_lexer": "ipython3",
   "version": "3.11.5"
  }
 },
 "nbformat": 4,
 "nbformat_minor": 2
}
